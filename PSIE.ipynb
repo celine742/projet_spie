{
  "nbformat": 4,
  "nbformat_minor": 0,
  "metadata": {
    "colab": {
      "provenance": [],
      "include_colab_link": true
    },
    "kernelspec": {
      "name": "python3",
      "display_name": "Python 3"
    },
    "language_info": {
      "name": "python"
    },
    "gpuClass": "standard"
  },
  "cells": [
    {
      "cell_type": "markdown",
      "metadata": {
        "id": "view-in-github",
        "colab_type": "text"
      },
      "source": [
        "<a href=\"https://colab.research.google.com/github/celine742/projet_spie/blob/main/PSIE.ipynb\" target=\"_parent\"><img src=\"https://colab.research.google.com/assets/colab-badge.svg\" alt=\"Open In Colab\"/></a>"
      ]
    },
    {
      "cell_type": "code",
      "execution_count": null,
      "metadata": {
        "colab": {
          "base_uri": "https://localhost:8080/"
        },
        "id": "f4fF5aXnztiR",
        "outputId": "f1af5f6e-57ae-47b0-c322-50fee98ef9d0"
      },
      "outputs": [
        {
          "output_type": "stream",
          "name": "stdout",
          "text": [
            "Mounted at /content/drive\n"
          ]
        }
      ],
      "source": [
        "from google.colab import drive\n",
        "drive.mount('/content/drive')\n",
        "\n",
        "DATA = '/content/drive/Shareddrives/Etude de cas PSIE/Etude de cas Spie/Prev-Optim conso ELEC/Pred-optim conso Reseau DistriBT'"
      ]
    },
    {
      "cell_type": "code",
      "source": [
        "import os\n",
        "import pandas as pd\n",
        "import numpy as np"
      ],
      "metadata": {
        "id": "mvqF6bHD4VGL"
      },
      "execution_count": null,
      "outputs": []
    },
    {
      "cell_type": "markdown",
      "source": [
        "## Conso d'une maison pour un jour"
      ],
      "metadata": {
        "id": "Y3bU4h4Mbfru"
      }
    },
    {
      "cell_type": "code",
      "source": [
        "import os\n",
        "import pandas as pd\n",
        "import numpy as np\n",
        "import datetime as dt\n",
        "import matplotlib.pyplot as plt"
      ],
      "metadata": {
        "id": "WP-sMI9ecLf5"
      },
      "execution_count": null,
      "outputs": []
    },
    {
      "cell_type": "code",
      "source": [
        "listDataByHouse = []\n",
        "\n",
        "dataByHouse = pd.read_csv('/content/drive/Shareddrives/Etude de cas PSIE/DataByType/M120-5.csv')\n",
        "dataByHouse['datetime'] = pd.to_datetime(dataByHouse['datetime'])\n",
        "dataByHouse"
      ],
      "metadata": {
        "colab": {
          "base_uri": "https://localhost:8080/",
          "height": 424
        },
        "id": "wmOffeZpbjGQ",
        "outputId": "b82c7443-8c88-43a4-f91e-8ad0e9f2f325"
      },
      "execution_count": null,
      "outputs": [
        {
          "output_type": "execute_result",
          "data": {
            "text/plain": [
              "                 datetime  typeLogement  surface  nbHabs     conso\n",
              "0     2020-01-01 00:00:00           1.0    120.0     5.0  1.001604\n",
              "1     2020-01-01 00:30:00           1.0    120.0     5.0  1.004254\n",
              "2     2020-01-01 01:00:00           1.0    120.0     5.0  0.969476\n",
              "3     2020-01-01 01:30:00           1.0    120.0     5.0  1.524258\n",
              "4     2020-01-01 02:00:00           1.0    120.0     5.0  1.711575\n",
              "...                   ...           ...      ...     ...       ...\n",
              "51787 2022-12-14 21:30:00           1.0    120.0     5.0  0.751801\n",
              "51788 2022-12-14 22:00:00           1.0    120.0     5.0  0.793610\n",
              "51789 2022-12-14 22:30:00           1.0    120.0     5.0  0.811295\n",
              "51790 2022-12-14 23:00:00           1.0    120.0     5.0  0.771616\n",
              "51791 2022-12-14 23:30:00           1.0    120.0     5.0  0.721385\n",
              "\n",
              "[51792 rows x 5 columns]"
            ],
            "text/html": [
              "\n",
              "  <div id=\"df-dd4b3aa3-bca2-41ed-aa83-7ecf8932fa30\">\n",
              "    <div class=\"colab-df-container\">\n",
              "      <div>\n",
              "<style scoped>\n",
              "    .dataframe tbody tr th:only-of-type {\n",
              "        vertical-align: middle;\n",
              "    }\n",
              "\n",
              "    .dataframe tbody tr th {\n",
              "        vertical-align: top;\n",
              "    }\n",
              "\n",
              "    .dataframe thead th {\n",
              "        text-align: right;\n",
              "    }\n",
              "</style>\n",
              "<table border=\"1\" class=\"dataframe\">\n",
              "  <thead>\n",
              "    <tr style=\"text-align: right;\">\n",
              "      <th></th>\n",
              "      <th>datetime</th>\n",
              "      <th>typeLogement</th>\n",
              "      <th>surface</th>\n",
              "      <th>nbHabs</th>\n",
              "      <th>conso</th>\n",
              "    </tr>\n",
              "  </thead>\n",
              "  <tbody>\n",
              "    <tr>\n",
              "      <th>0</th>\n",
              "      <td>2020-01-01 00:00:00</td>\n",
              "      <td>1.0</td>\n",
              "      <td>120.0</td>\n",
              "      <td>5.0</td>\n",
              "      <td>1.001604</td>\n",
              "    </tr>\n",
              "    <tr>\n",
              "      <th>1</th>\n",
              "      <td>2020-01-01 00:30:00</td>\n",
              "      <td>1.0</td>\n",
              "      <td>120.0</td>\n",
              "      <td>5.0</td>\n",
              "      <td>1.004254</td>\n",
              "    </tr>\n",
              "    <tr>\n",
              "      <th>2</th>\n",
              "      <td>2020-01-01 01:00:00</td>\n",
              "      <td>1.0</td>\n",
              "      <td>120.0</td>\n",
              "      <td>5.0</td>\n",
              "      <td>0.969476</td>\n",
              "    </tr>\n",
              "    <tr>\n",
              "      <th>3</th>\n",
              "      <td>2020-01-01 01:30:00</td>\n",
              "      <td>1.0</td>\n",
              "      <td>120.0</td>\n",
              "      <td>5.0</td>\n",
              "      <td>1.524258</td>\n",
              "    </tr>\n",
              "    <tr>\n",
              "      <th>4</th>\n",
              "      <td>2020-01-01 02:00:00</td>\n",
              "      <td>1.0</td>\n",
              "      <td>120.0</td>\n",
              "      <td>5.0</td>\n",
              "      <td>1.711575</td>\n",
              "    </tr>\n",
              "    <tr>\n",
              "      <th>...</th>\n",
              "      <td>...</td>\n",
              "      <td>...</td>\n",
              "      <td>...</td>\n",
              "      <td>...</td>\n",
              "      <td>...</td>\n",
              "    </tr>\n",
              "    <tr>\n",
              "      <th>51787</th>\n",
              "      <td>2022-12-14 21:30:00</td>\n",
              "      <td>1.0</td>\n",
              "      <td>120.0</td>\n",
              "      <td>5.0</td>\n",
              "      <td>0.751801</td>\n",
              "    </tr>\n",
              "    <tr>\n",
              "      <th>51788</th>\n",
              "      <td>2022-12-14 22:00:00</td>\n",
              "      <td>1.0</td>\n",
              "      <td>120.0</td>\n",
              "      <td>5.0</td>\n",
              "      <td>0.793610</td>\n",
              "    </tr>\n",
              "    <tr>\n",
              "      <th>51789</th>\n",
              "      <td>2022-12-14 22:30:00</td>\n",
              "      <td>1.0</td>\n",
              "      <td>120.0</td>\n",
              "      <td>5.0</td>\n",
              "      <td>0.811295</td>\n",
              "    </tr>\n",
              "    <tr>\n",
              "      <th>51790</th>\n",
              "      <td>2022-12-14 23:00:00</td>\n",
              "      <td>1.0</td>\n",
              "      <td>120.0</td>\n",
              "      <td>5.0</td>\n",
              "      <td>0.771616</td>\n",
              "    </tr>\n",
              "    <tr>\n",
              "      <th>51791</th>\n",
              "      <td>2022-12-14 23:30:00</td>\n",
              "      <td>1.0</td>\n",
              "      <td>120.0</td>\n",
              "      <td>5.0</td>\n",
              "      <td>0.721385</td>\n",
              "    </tr>\n",
              "  </tbody>\n",
              "</table>\n",
              "<p>51792 rows × 5 columns</p>\n",
              "</div>\n",
              "      <button class=\"colab-df-convert\" onclick=\"convertToInteractive('df-dd4b3aa3-bca2-41ed-aa83-7ecf8932fa30')\"\n",
              "              title=\"Convert this dataframe to an interactive table.\"\n",
              "              style=\"display:none;\">\n",
              "        \n",
              "  <svg xmlns=\"http://www.w3.org/2000/svg\" height=\"24px\"viewBox=\"0 0 24 24\"\n",
              "       width=\"24px\">\n",
              "    <path d=\"M0 0h24v24H0V0z\" fill=\"none\"/>\n",
              "    <path d=\"M18.56 5.44l.94 2.06.94-2.06 2.06-.94-2.06-.94-.94-2.06-.94 2.06-2.06.94zm-11 1L8.5 8.5l.94-2.06 2.06-.94-2.06-.94L8.5 2.5l-.94 2.06-2.06.94zm10 10l.94 2.06.94-2.06 2.06-.94-2.06-.94-.94-2.06-.94 2.06-2.06.94z\"/><path d=\"M17.41 7.96l-1.37-1.37c-.4-.4-.92-.59-1.43-.59-.52 0-1.04.2-1.43.59L10.3 9.45l-7.72 7.72c-.78.78-.78 2.05 0 2.83L4 21.41c.39.39.9.59 1.41.59.51 0 1.02-.2 1.41-.59l7.78-7.78 2.81-2.81c.8-.78.8-2.07 0-2.86zM5.41 20L4 18.59l7.72-7.72 1.47 1.35L5.41 20z\"/>\n",
              "  </svg>\n",
              "      </button>\n",
              "      \n",
              "  <style>\n",
              "    .colab-df-container {\n",
              "      display:flex;\n",
              "      flex-wrap:wrap;\n",
              "      gap: 12px;\n",
              "    }\n",
              "\n",
              "    .colab-df-convert {\n",
              "      background-color: #E8F0FE;\n",
              "      border: none;\n",
              "      border-radius: 50%;\n",
              "      cursor: pointer;\n",
              "      display: none;\n",
              "      fill: #1967D2;\n",
              "      height: 32px;\n",
              "      padding: 0 0 0 0;\n",
              "      width: 32px;\n",
              "    }\n",
              "\n",
              "    .colab-df-convert:hover {\n",
              "      background-color: #E2EBFA;\n",
              "      box-shadow: 0px 1px 2px rgba(60, 64, 67, 0.3), 0px 1px 3px 1px rgba(60, 64, 67, 0.15);\n",
              "      fill: #174EA6;\n",
              "    }\n",
              "\n",
              "    [theme=dark] .colab-df-convert {\n",
              "      background-color: #3B4455;\n",
              "      fill: #D2E3FC;\n",
              "    }\n",
              "\n",
              "    [theme=dark] .colab-df-convert:hover {\n",
              "      background-color: #434B5C;\n",
              "      box-shadow: 0px 1px 3px 1px rgba(0, 0, 0, 0.15);\n",
              "      filter: drop-shadow(0px 1px 2px rgba(0, 0, 0, 0.3));\n",
              "      fill: #FFFFFF;\n",
              "    }\n",
              "  </style>\n",
              "\n",
              "      <script>\n",
              "        const buttonEl =\n",
              "          document.querySelector('#df-dd4b3aa3-bca2-41ed-aa83-7ecf8932fa30 button.colab-df-convert');\n",
              "        buttonEl.style.display =\n",
              "          google.colab.kernel.accessAllowed ? 'block' : 'none';\n",
              "\n",
              "        async function convertToInteractive(key) {\n",
              "          const element = document.querySelector('#df-dd4b3aa3-bca2-41ed-aa83-7ecf8932fa30');\n",
              "          const dataTable =\n",
              "            await google.colab.kernel.invokeFunction('convertToInteractive',\n",
              "                                                     [key], {});\n",
              "          if (!dataTable) return;\n",
              "\n",
              "          const docLinkHtml = 'Like what you see? Visit the ' +\n",
              "            '<a target=\"_blank\" href=https://colab.research.google.com/notebooks/data_table.ipynb>data table notebook</a>'\n",
              "            + ' to learn more about interactive tables.';\n",
              "          element.innerHTML = '';\n",
              "          dataTable['output_type'] = 'display_data';\n",
              "          await google.colab.output.renderOutput(dataTable, element);\n",
              "          const docLink = document.createElement('div');\n",
              "          docLink.innerHTML = docLinkHtml;\n",
              "          element.appendChild(docLink);\n",
              "        }\n",
              "      </script>\n",
              "    </div>\n",
              "  </div>\n",
              "  "
            ]
          },
          "metadata": {},
          "execution_count": 15
        }
      ]
    },
    {
      "cell_type": "code",
      "source": [
        "plt.figure(figsize=(12, 4))\n",
        "plt.plot(dataByHouse['datetime'][0:240], dataByHouse['conso'][0:240], color='b')\n",
        "plt.xlabel(\"Mesures\")\n",
        "plt.ylabel(\"Consommation\")\n",
        "plt.show()"
      ],
      "metadata": {
        "colab": {
          "base_uri": "https://localhost:8080/",
          "height": 279
        },
        "id": "1UDOp37zcOd4",
        "outputId": "9eb58f9d-7bc0-4ad5-94d1-dbf69927de39"
      },
      "execution_count": null,
      "outputs": [
        {
          "output_type": "display_data",
          "data": {
            "text/plain": [
              "<Figure size 864x288 with 1 Axes>"
            ],
            "image/png": "[encoded data removed]"
          },
          "metadata": {
            "needs_background": "light"
          }
        }
      ]
    },
    {
      "cell_type": "markdown",
      "source": [
        "# Data Processing pour la consommation totale par jour"
      ],
      "metadata": {
        "id": "TUtLdJMK24eg"
      }
    },
    {
      "cell_type": "markdown",
      "source": [
        "Récupérer les infos par maison"
      ],
      "metadata": {
        "id": "BEHzUIMq_TzY"
      }
    },
    {
      "cell_type": "code",
      "source": [
        "for folder in os.listdir(DATA):\n",
        "  tmp = folder[5:].split('-')\n",
        "\n",
        "  typeHouse = tmp[0][0]\n",
        "  surface = int(tmp[0][1:])\n",
        "  nbHab = int(tmp[1])\n",
        "\n",
        "  #print(f'{typeHouse} {surface} {nbHab}')\n",
        "\n",
        "  for f in os.listdir(DATA + '/' + folder):\n",
        "    if typeHouse == 'A' and surface == 120 and nbHab == 4:\n",
        "      id = f[20:-5]\n",
        "    else:\n",
        "      id = f.split('-')[2][:-4]\n",
        "\n",
        "    #print('\\t' + id)"
      ],
      "metadata": {
        "id": "HzJflmaL29fD"
      },
      "execution_count": null,
      "outputs": []
    },
    {
      "cell_type": "markdown",
      "source": [
        "Récupérer la consommation totale par jour"
      ],
      "metadata": {
        "id": "au5bHrlLAGkY"
      }
    },
    {
      "cell_type": "code",
      "source": [
        "sumConso = pd.DataFrame(np.zeros(1080), columns=['Unnamed: 1'])\n",
        "\n",
        "for folder in os.listdir(DATA):\n",
        "  for f in os.listdir(DATA + '/' + folder):\n",
        "    \n",
        "    df = pd.read_csv(f'{DATA}/{folder}/{f}')\n",
        "    sumConso['Unnamed: 1'] += df['Unnamed: 1'].values\n",
        "\n",
        "\n",
        "print(sumConso)\n",
        "\n",
        "\"\"\"\n",
        "df = pd.read_csv(f'{DATA}/data A15-1/data_maison_A15-1-1.csv')\n",
        "df2 = pd.read_csv(f'{DATA}/data A15-1/data_maison_A15-1-2.csv')\n",
        "print(df['Unnamed: 1'].values)\n",
        "print(df2['Unnamed: 1'].values)\n",
        "print(df['Unnamed: 1'] + df2['Unnamed: 1'].values)\n",
        "\"\"\""
      ],
      "metadata": {
        "colab": {
          "base_uri": "https://localhost:8080/",
          "height": 296
        },
        "id": "7hUXYZLjAFHU",
        "outputId": "70ccc92b-801c-443a-828d-52fe74807a65"
      },
      "execution_count": null,
      "outputs": [
        {
          "output_type": "stream",
          "name": "stdout",
          "text": [
            "       Unnamed: 1\n",
            "0             NaN\n",
            "1     507813.1930\n",
            "2     736893.4079\n",
            "3     987414.6313\n",
            "4     120746.7352\n",
            "...           ...\n",
            "1075  667532.2040\n",
            "1076  638165.3757\n",
            "1077  681086.1861\n",
            "1078  677697.6606\n",
            "1079  607668.8550\n",
            "\n",
            "[1080 rows x 1 columns]\n"
          ]
        },
        {
          "output_type": "execute_result",
          "data": {
            "text/plain": [
              "\"\\ndf = pd.read_csv(f'{DATA}/data A15-1/data_maison_A15-1-1.csv')\\ndf2 = pd.read_csv(f'{DATA}/data A15-1/data_maison_A15-1-2.csv')\\nprint(df['Unnamed: 1'].values)\\nprint(df2['Unnamed: 1'].values)\\nprint(df['Unnamed: 1'] + df2['Unnamed: 1'].values)\\n\""
            ],
            "application/vnd.google.colaboratory.intrinsic+json": {
              "type": "string"
            }
          },
          "metadata": {},
          "execution_count": 61
        }
      ]
    },
    {
      "cell_type": "markdown",
      "source": [
        "Ajouter le jour au dataframe et recommer la colonne `Unnamed: 1`"
      ],
      "metadata": {
        "id": "wH120mPXIYrS"
      }
    },
    {
      "cell_type": "code",
      "source": [
        "sumConso.rename(columns={'Unnamed: 1': 'Sum'})"
      ],
      "metadata": {
        "colab": {
          "base_uri": "https://localhost:8080/",
          "height": 424
        },
        "id": "kKgg5weSJGBd",
        "outputId": "775e7d60-445e-4eab-a58b-446732132321"
      },
      "execution_count": null,
      "outputs": [
        {
          "output_type": "execute_result",
          "data": {
            "text/plain": [
              "              Sum\n",
              "0             NaN\n",
              "1     507813.1930\n",
              "2     736893.4079\n",
              "3     987414.6313\n",
              "4     120746.7352\n",
              "...           ...\n",
              "1075  667532.2040\n",
              "1076  638165.3757\n",
              "1077  681086.1861\n",
              "1078  677697.6606\n",
              "1079  607668.8550\n",
              "\n",
              "[1080 rows x 1 columns]"
            ],
            "text/html": [
              "\n",
              "  <div id=\"df-618856a1-5cd6-49f8-924a-f5be710457f7\">\n",
              "    <div class=\"colab-df-container\">\n",
              "      <div>\n",
              "<style scoped>\n",
              "    .dataframe tbody tr th:only-of-type {\n",
              "        vertical-align: middle;\n",
              "    }\n",
              "\n",
              "    .dataframe tbody tr th {\n",
              "        vertical-align: top;\n",
              "    }\n",
              "\n",
              "    .dataframe thead th {\n",
              "        text-align: right;\n",
              "    }\n",
              "</style>\n",
              "<table border=\"1\" class=\"dataframe\">\n",
              "  <thead>\n",
              "    <tr style=\"text-align: right;\">\n",
              "      <th></th>\n",
              "      <th>Sum</th>\n",
              "    </tr>\n",
              "  </thead>\n",
              "  <tbody>\n",
              "    <tr>\n",
              "      <th>0</th>\n",
              "      <td>NaN</td>\n",
              "    </tr>\n",
              "    <tr>\n",
              "      <th>1</th>\n",
              "      <td>507813.1930</td>\n",
              "    </tr>\n",
              "    <tr>\n",
              "      <th>2</th>\n",
              "      <td>736893.4079</td>\n",
              "    </tr>\n",
              "    <tr>\n",
              "      <th>3</th>\n",
              "      <td>987414.6313</td>\n",
              "    </tr>\n",
              "    <tr>\n",
              "      <th>4</th>\n",
              "      <td>120746.7352</td>\n",
              "    </tr>\n",
              "    <tr>\n",
              "      <th>...</th>\n",
              "      <td>...</td>\n",
              "    </tr>\n",
              "    <tr>\n",
              "      <th>1075</th>\n",
              "      <td>667532.2040</td>\n",
              "    </tr>\n",
              "    <tr>\n",
              "      <th>1076</th>\n",
              "      <td>638165.3757</td>\n",
              "    </tr>\n",
              "    <tr>\n",
              "      <th>1077</th>\n",
              "      <td>681086.1861</td>\n",
              "    </tr>\n",
              "    <tr>\n",
              "      <th>1078</th>\n",
              "      <td>677697.6606</td>\n",
              "    </tr>\n",
              "    <tr>\n",
              "      <th>1079</th>\n",
              "      <td>607668.8550</td>\n",
              "    </tr>\n",
              "  </tbody>\n",
              "</table>\n",
              "<p>1080 rows × 1 columns</p>\n",
              "</div>\n",
              "      <button class=\"colab-df-convert\" onclick=\"convertToInteractive('df-618856a1-5cd6-49f8-924a-f5be710457f7')\"\n",
              "              title=\"Convert this dataframe to an interactive table.\"\n",
              "              style=\"display:none;\">\n",
              "        \n",
              "  <svg xmlns=\"http://www.w3.org/2000/svg\" height=\"24px\"viewBox=\"0 0 24 24\"\n",
              "       width=\"24px\">\n",
              "    <path d=\"M0 0h24v24H0V0z\" fill=\"none\"/>\n",
              "    <path d=\"M18.56 5.44l.94 2.06.94-2.06 2.06-.94-2.06-.94-.94-2.06-.94 2.06-2.06.94zm-11 1L8.5 8.5l.94-2.06 2.06-.94-2.06-.94L8.5 2.5l-.94 2.06-2.06.94zm10 10l.94 2.06.94-2.06 2.06-.94-2.06-.94-.94-2.06-.94 2.06-2.06.94z\"/><path d=\"M17.41 7.96l-1.37-1.37c-.4-.4-.92-.59-1.43-.59-.52 0-1.04.2-1.43.59L10.3 9.45l-7.72 7.72c-.78.78-.78 2.05 0 2.83L4 21.41c.39.39.9.59 1.41.59.51 0 1.02-.2 1.41-.59l7.78-7.78 2.81-2.81c.8-.78.8-2.07 0-2.86zM5.41 20L4 18.59l7.72-7.72 1.47 1.35L5.41 20z\"/>\n",
              "  </svg>\n",
              "      </button>\n",
              "      \n",
              "  <style>\n",
              "    .colab-df-container {\n",
              "      display:flex;\n",
              "      flex-wrap:wrap;\n",
              "      gap: 12px;\n",
              "    }\n",
              "\n",
              "    .colab-df-convert {\n",
              "      background-color: #E8F0FE;\n",
              "      border: none;\n",
              "      border-radius: 50%;\n",
              "      cursor: pointer;\n",
              "      display: none;\n",
              "      fill: #1967D2;\n",
              "      height: 32px;\n",
              "      padding: 0 0 0 0;\n",
              "      width: 32px;\n",
              "    }\n",
              "\n",
              "    .colab-df-convert:hover {\n",
              "      background-color: #E2EBFA;\n",
              "      box-shadow: 0px 1px 2px rgba(60, 64, 67, 0.3), 0px 1px 3px 1px rgba(60, 64, 67, 0.15);\n",
              "      fill: #174EA6;\n",
              "    }\n",
              "\n",
              "    [theme=dark] .colab-df-convert {\n",
              "      background-color: #3B4455;\n",
              "      fill: #D2E3FC;\n",
              "    }\n",
              "\n",
              "    [theme=dark] .colab-df-convert:hover {\n",
              "      background-color: #434B5C;\n",
              "      box-shadow: 0px 1px 3px 1px rgba(0, 0, 0, 0.15);\n",
              "      filter: drop-shadow(0px 1px 2px rgba(0, 0, 0, 0.3));\n",
              "      fill: #FFFFFF;\n",
              "    }\n",
              "  </style>\n",
              "\n",
              "      <script>\n",
              "        const buttonEl =\n",
              "          document.querySelector('#df-618856a1-5cd6-49f8-924a-f5be710457f7 button.colab-df-convert');\n",
              "        buttonEl.style.display =\n",
              "          google.colab.kernel.accessAllowed ? 'block' : 'none';\n",
              "\n",
              "        async function convertToInteractive(key) {\n",
              "          const element = document.querySelector('#df-618856a1-5cd6-49f8-924a-f5be710457f7');\n",
              "          const dataTable =\n",
              "            await google.colab.kernel.invokeFunction('convertToInteractive',\n",
              "                                                     [key], {});\n",
              "          if (!dataTable) return;\n",
              "\n",
              "          const docLinkHtml = 'Like what you see? Visit the ' +\n",
              "            '<a target=\"_blank\" href=https://colab.research.google.com/notebooks/data_table.ipynb>data table notebook</a>'\n",
              "            + ' to learn more about interactive tables.';\n",
              "          element.innerHTML = '';\n",
              "          dataTable['output_type'] = 'display_data';\n",
              "          await google.colab.output.renderOutput(dataTable, element);\n",
              "          const docLink = document.createElement('div');\n",
              "          docLink.innerHTML = docLinkHtml;\n",
              "          element.appendChild(docLink);\n",
              "        }\n",
              "      </script>\n",
              "    </div>\n",
              "  </div>\n",
              "  "
            ]
          },
          "metadata": {},
          "execution_count": 62
        }
      ]
    },
    {
      "cell_type": "code",
      "source": [
        "# Récupérer la colonne date\n",
        "df = pd.read_csv(f'{DATA}/data A15-1/data_maison_A15-1-1.csv')\n",
        "df['date'].head()"
      ],
      "metadata": {
        "colab": {
          "base_uri": "https://localhost:8080/"
        },
        "id": "iiLVfxVVKWY_",
        "outputId": "66ec128e-2f65-49d8-a0dd-087d824430e3"
      },
      "execution_count": null,
      "outputs": [
        {
          "output_type": "execute_result",
          "data": {
            "text/plain": [
              "0           NaN\n",
              "1    12/14/2022\n",
              "2    12/13/2022\n",
              "3    12/12/2022\n",
              "4    12/11/2022\n",
              "Name: date, dtype: object"
            ]
          },
          "metadata": {},
          "execution_count": 63
        }
      ]
    },
    {
      "cell_type": "code",
      "source": [
        "res = pd.concat([sumConso, df['date']], axis=1, ignore_index=True, sort=False)\n",
        "res"
      ],
      "metadata": {
        "colab": {
          "base_uri": "https://localhost:8080/",
          "height": 424
        },
        "id": "y66ajBvfKFVE",
        "outputId": "17a6599c-406d-4cca-bafe-1aceb137eb06"
      },
      "execution_count": null,
      "outputs": [
        {
          "output_type": "execute_result",
          "data": {
            "text/plain": [
              "                0           1\n",
              "0             NaN         NaN\n",
              "1     507813.1930  12/14/2022\n",
              "2     736893.4079  12/13/2022\n",
              "3     987414.6313  12/12/2022\n",
              "4     120746.7352  12/11/2022\n",
              "...           ...         ...\n",
              "1075  667532.2040    1/5/2020\n",
              "1076  638165.3757    1/4/2020\n",
              "1077  681086.1861    1/3/2020\n",
              "1078  677697.6606    1/2/2020\n",
              "1079  607668.8550    1/1/2020\n",
              "\n",
              "[1080 rows x 2 columns]"
            ],
            "text/html": [
              "\n",
              "  <div id=\"df-64169186-f5cb-44ba-8422-c07c9916e669\">\n",
              "    <div class=\"colab-df-container\">\n",
              "      <div>\n",
              "<style scoped>\n",
              "    .dataframe tbody tr th:only-of-type {\n",
              "        vertical-align: middle;\n",
              "    }\n",
              "\n",
              "    .dataframe tbody tr th {\n",
              "        vertical-align: top;\n",
              "    }\n",
              "\n",
              "    .dataframe thead th {\n",
              "        text-align: right;\n",
              "    }\n",
              "</style>\n",
              "<table border=\"1\" class=\"dataframe\">\n",
              "  <thead>\n",
              "    <tr style=\"text-align: right;\">\n",
              "      <th></th>\n",
              "      <th>0</th>\n",
              "      <th>1</th>\n",
              "    </tr>\n",
              "  </thead>\n",
              "  <tbody>\n",
              "    <tr>\n",
              "      <th>0</th>\n",
              "      <td>NaN</td>\n",
              "      <td>NaN</td>\n",
              "    </tr>\n",
              "    <tr>\n",
              "      <th>1</th>\n",
              "      <td>507813.1930</td>\n",
              "      <td>12/14/2022</td>\n",
              "    </tr>\n",
              "    <tr>\n",
              "      <th>2</th>\n",
              "      <td>736893.4079</td>\n",
              "      <td>12/13/2022</td>\n",
              "    </tr>\n",
              "    <tr>\n",
              "      <th>3</th>\n",
              "      <td>987414.6313</td>\n",
              "      <td>12/12/2022</td>\n",
              "    </tr>\n",
              "    <tr>\n",
              "      <th>4</th>\n",
              "      <td>120746.7352</td>\n",
              "      <td>12/11/2022</td>\n",
              "    </tr>\n",
              "    <tr>\n",
              "      <th>...</th>\n",
              "      <td>...</td>\n",
              "      <td>...</td>\n",
              "    </tr>\n",
              "    <tr>\n",
              "      <th>1075</th>\n",
              "      <td>667532.2040</td>\n",
              "      <td>1/5/2020</td>\n",
              "    </tr>\n",
              "    <tr>\n",
              "      <th>1076</th>\n",
              "      <td>638165.3757</td>\n",
              "      <td>1/4/2020</td>\n",
              "    </tr>\n",
              "    <tr>\n",
              "      <th>1077</th>\n",
              "      <td>681086.1861</td>\n",
              "      <td>1/3/2020</td>\n",
              "    </tr>\n",
              "    <tr>\n",
              "      <th>1078</th>\n",
              "      <td>677697.6606</td>\n",
              "      <td>1/2/2020</td>\n",
              "    </tr>\n",
              "    <tr>\n",
              "      <th>1079</th>\n",
              "      <td>607668.8550</td>\n",
              "      <td>1/1/2020</td>\n",
              "    </tr>\n",
              "  </tbody>\n",
              "</table>\n",
              "<p>1080 rows × 2 columns</p>\n",
              "</div>\n",
              "      <button class=\"colab-df-convert\" onclick=\"convertToInteractive('df-64169186-f5cb-44ba-8422-c07c9916e669')\"\n",
              "              title=\"Convert this dataframe to an interactive table.\"\n",
              "              style=\"display:none;\">\n",
              "        \n",
              "  <svg xmlns=\"http://www.w3.org/2000/svg\" height=\"24px\"viewBox=\"0 0 24 24\"\n",
              "       width=\"24px\">\n",
              "    <path d=\"M0 0h24v24H0V0z\" fill=\"none\"/>\n",
              "    <path d=\"M18.56 5.44l.94 2.06.94-2.06 2.06-.94-2.06-.94-.94-2.06-.94 2.06-2.06.94zm-11 1L8.5 8.5l.94-2.06 2.06-.94-2.06-.94L8.5 2.5l-.94 2.06-2.06.94zm10 10l.94 2.06.94-2.06 2.06-.94-2.06-.94-.94-2.06-.94 2.06-2.06.94z\"/><path d=\"M17.41 7.96l-1.37-1.37c-.4-.4-.92-.59-1.43-.59-.52 0-1.04.2-1.43.59L10.3 9.45l-7.72 7.72c-.78.78-.78 2.05 0 2.83L4 21.41c.39.39.9.59 1.41.59.51 0 1.02-.2 1.41-.59l7.78-7.78 2.81-2.81c.8-.78.8-2.07 0-2.86zM5.41 20L4 18.59l7.72-7.72 1.47 1.35L5.41 20z\"/>\n",
              "  </svg>\n",
              "      </button>\n",
              "      \n",
              "  <style>\n",
              "    .colab-df-container {\n",
              "      display:flex;\n",
              "      flex-wrap:wrap;\n",
              "      gap: 12px;\n",
              "    }\n",
              "\n",
              "    .colab-df-convert {\n",
              "      background-color: #E8F0FE;\n",
              "      border: none;\n",
              "      border-radius: 50%;\n",
              "      cursor: pointer;\n",
              "      display: none;\n",
              "      fill: #1967D2;\n",
              "      height: 32px;\n",
              "      padding: 0 0 0 0;\n",
              "      width: 32px;\n",
              "    }\n",
              "\n",
              "    .colab-df-convert:hover {\n",
              "      background-color: #E2EBFA;\n",
              "      box-shadow: 0px 1px 2px rgba(60, 64, 67, 0.3), 0px 1px 3px 1px rgba(60, 64, 67, 0.15);\n",
              "      fill: #174EA6;\n",
              "    }\n",
              "\n",
              "    [theme=dark] .colab-df-convert {\n",
              "      background-color: #3B4455;\n",
              "      fill: #D2E3FC;\n",
              "    }\n",
              "\n",
              "    [theme=dark] .colab-df-convert:hover {\n",
              "      background-color: #434B5C;\n",
              "      box-shadow: 0px 1px 3px 1px rgba(0, 0, 0, 0.15);\n",
              "      filter: drop-shadow(0px 1px 2px rgba(0, 0, 0, 0.3));\n",
              "      fill: #FFFFFF;\n",
              "    }\n",
              "  </style>\n",
              "\n",
              "      <script>\n",
              "        const buttonEl =\n",
              "          document.querySelector('#df-64169186-f5cb-44ba-8422-c07c9916e669 button.colab-df-convert');\n",
              "        buttonEl.style.display =\n",
              "          google.colab.kernel.accessAllowed ? 'block' : 'none';\n",
              "\n",
              "        async function convertToInteractive(key) {\n",
              "          const element = document.querySelector('#df-64169186-f5cb-44ba-8422-c07c9916e669');\n",
              "          const dataTable =\n",
              "            await google.colab.kernel.invokeFunction('convertToInteractive',\n",
              "                                                     [key], {});\n",
              "          if (!dataTable) return;\n",
              "\n",
              "          const docLinkHtml = 'Like what you see? Visit the ' +\n",
              "            '<a target=\"_blank\" href=https://colab.research.google.com/notebooks/data_table.ipynb>data table notebook</a>'\n",
              "            + ' to learn more about interactive tables.';\n",
              "          element.innerHTML = '';\n",
              "          dataTable['output_type'] = 'display_data';\n",
              "          await google.colab.output.renderOutput(dataTable, element);\n",
              "          const docLink = document.createElement('div');\n",
              "          docLink.innerHTML = docLinkHtml;\n",
              "          element.appendChild(docLink);\n",
              "        }\n",
              "      </script>\n",
              "    </div>\n",
              "  </div>\n",
              "  "
            ]
          },
          "metadata": {},
          "execution_count": 64
        }
      ]
    },
    {
      "cell_type": "code",
      "source": [
        "res = res.dropna()"
      ],
      "metadata": {
        "id": "p7nPq1iiL5HZ"
      },
      "execution_count": null,
      "outputs": []
    },
    {
      "cell_type": "markdown",
      "source": [
        "Sauvegarder le dataframe"
      ],
      "metadata": {
        "id": "WRvM8_QeIb7n"
      }
    },
    {
      "cell_type": "code",
      "source": [
        "res.to_csv('/content/drive/Shareddrives/Etude de cas PSIE/Conso_totale_par_jour.csv')"
      ],
      "metadata": {
        "id": "yq0-aSjRId2b"
      },
      "execution_count": null,
      "outputs": []
    },
    {
      "cell_type": "markdown",
      "source": [
        "# Process conso totale par jour"
      ],
      "metadata": {
        "id": "6Q3Zqvu7Lcm7"
      }
    },
    {
      "cell_type": "code",
      "source": [
        "consoTotaleParJour = pd.read_csv('/content/drive/Shareddrives/Etude de cas PSIE/Conso_totale_par_jour.csv', index_col=0)\n",
        "consoTotaleParJour = consoTotaleParJour.rename(columns={'0': 'Sum', '1': 'Date'})\n",
        "consoTotaleParJour['Date'] = pd.to_datetime(consoTotaleParJour['Date'], format=\"%m/%d/%Y\")\n",
        "consoTotaleParJour.set_index(['Date'],inplace=True)"
      ],
      "metadata": {
        "id": "g_7FYqNkLf98"
      },
      "execution_count": null,
      "outputs": []
    },
    {
      "cell_type": "code",
      "source": [
        "consoTotaleParJour['Sum'].describe().apply(lambda x: format(x, 'f'))"
      ],
      "metadata": {
        "colab": {
          "base_uri": "https://localhost:8080/"
        },
        "id": "NznFV4JRLuX2",
        "outputId": "28ed5cb3-9cd5-45e7-eab3-ffb32130760e"
      },
      "execution_count": null,
      "outputs": [
        {
          "output_type": "execute_result",
          "data": {
            "text/plain": [
              "count       1079.000000\n",
              "mean      434876.686481\n",
              "std       215192.219468\n",
              "min        88091.511000\n",
              "25%       251185.774350\n",
              "50%       400608.130700\n",
              "75%       596907.421500\n",
              "max      1086720.259300\n",
              "Name: Sum, dtype: object"
            ]
          },
          "metadata": {},
          "execution_count": 28
        }
      ]
    },
    {
      "cell_type": "code",
      "source": [
        "import datetime as dt\n",
        "consoTotaleParJour.index.map(dt.datetime.toordinal)"
      ],
      "metadata": {
        "colab": {
          "base_uri": "https://localhost:8080/"
        },
        "id": "nRWZqYAlVymp",
        "outputId": "eba6c536-4130-48e5-d7ba-81140193c693"
      },
      "execution_count": null,
      "outputs": [
        {
          "output_type": "execute_result",
          "data": {
            "text/plain": [
              "Int64Index([738503, 738502, 738501, 738500, 738499, 738498, 738497, 738496,\n",
              "            738495, 738494,\n",
              "            ...\n",
              "            737434, 737433, 737432, 737431, 737430, 737429, 737428, 737427,\n",
              "            737426, 737425],\n",
              "           dtype='int64', name='Date', length=1079)"
            ]
          },
          "metadata": {},
          "execution_count": 31
        }
      ]
    },
    {
      "cell_type": "code",
      "source": [
        "consoTotaleParJour.plot(figsize=(30, 10),color='red')"
      ],
      "metadata": {
        "colab": {
          "base_uri": "https://localhost:8080/",
          "height": 665
        },
        "id": "MLot5X7CVUW8",
        "outputId": "b5bd5a0e-4bd6-4561-d58b-5b90f2495f3f"
      },
      "execution_count": null,
      "outputs": [
        {
          "output_type": "execute_result",
          "data": {
            "text/plain": [
              "<matplotlib.axes._subplots.AxesSubplot at 0x7f27945ffd00>"
            ]
          },
          "metadata": {},
          "execution_count": 14
        },
        {
          "output_type": "display_data",
          "data": {
            "text/plain": [
              "<Figure size 2160x720 with 1 Axes>"
            ],
            "image/png": "[encoded data removed]"
          },
          "metadata": {
            "needs_background": "light"
          }
        }
      ]
    },
    {
      "cell_type": "markdown",
      "source": [
        "# Conso par maison"
      ],
      "metadata": {
        "id": "wDp_Ni1CXFmk"
      }
    },
    {
      "cell_type": "markdown",
      "source": [
        "## Formatage des données"
      ],
      "metadata": {
        "id": "crbdH3jr9WO6"
      }
    },
    {
      "cell_type": "markdown",
      "source": [
        "Etablir la consommation pour une maison (type, surface, nombre d'habitants) en fonction de la date et l'heure  \n",
        "D'abord sur un échantillon réduit de 10 maisons par type."
      ],
      "metadata": {
        "id": "caPog0cXtAWt"
      }
    },
    {
      "cell_type": "code",
      "source": [
        "import datetime as dt"
      ],
      "metadata": {
        "id": "s-XQL85F7uso"
      },
      "execution_count": null,
      "outputs": []
    },
    {
      "cell_type": "code",
      "source": [
        "listDataByHouse = []\n",
        "\n",
        "for folder in os.listdir(DATA):\n",
        "  print(folder)\n",
        "  i = 0\n",
        "  for f in os.listdir(DATA + '/' + folder):\n",
        "    tmp = folder[5:].split('-')\n",
        "\n",
        "    if tmp[0][0] == 'A':\n",
        "      appart = 1\n",
        "      maison = 0\n",
        "    else:\n",
        "      appart = 0\n",
        "      maison = 1\n",
        "\n",
        "    surface = int(tmp[0][1:])\n",
        "    nbHab = int(tmp[1])\n",
        "\n",
        "    #Dossier avec des noms de fichiers différents\n",
        "    if appart == 1 and surface == 120 and nbHab == 4:\n",
        "      id = f[20:-5]\n",
        "    else:\n",
        "      id = f.split('-')[2][:-4]\n",
        "\n",
        "    df = pd.read_csv(f'{DATA}/{folder}/{f}')\n",
        "    for index, rows in df.iterrows():\n",
        "      if(index == 0):\n",
        "        continue\n",
        "      \n",
        "      tmp = rows[0].split('/')\n",
        "      # Use 2020 so same date with different year got the same info (pas forcément obligatoire)\n",
        "      date = dt.date(int(tmp[2]), int(tmp[0]), int(tmp[1])).toordinal()\n",
        "\n",
        "      #Parse by column (for each hour)\n",
        "      for j in range(0, len(rows)-2):\n",
        "        listDataByHouse.append([appart, maison, surface, nbHab, date, j, float(rows[j+2])])\n",
        "    \n",
        "    #get first 5 files\n",
        "    i += 1\n",
        "    if i >= 5:\n",
        "      break\n",
        "\n",
        "dataByHouse = pd.DataFrame(listDataByHouse, columns=['appart', 'maison', 'surface', 'nbHabs', 'date', 'heure', 'conso'])\n",
        "dataByHouse"
      ],
      "metadata": {
        "colab": {
          "base_uri": "https://localhost:8080/",
          "height": 875
        },
        "id": "Ra45BGeixEF9",
        "outputId": "7cfb3f43-582c-4a4e-e162-92fa3e8a3b13"
      },
      "execution_count": null,
      "outputs": [
        {
          "output_type": "stream",
          "name": "stdout",
          "text": [
            "data M150-4\n",
            "data M85-3\n",
            "data M140-5\n",
            "data A30-2\n",
            "data A15-1\n",
            "data A25-1\n",
            "data A50-2\n",
            "data A50-3\n",
            "data A100-3\n",
            "data A110-5\n",
            "data M200-6\n",
            "data M50-2\n",
            "data M120-5\n",
            "data A150-6\n",
            "data A130-4\n",
            "data M65-3\n",
            "data M80-2\n",
            "data A120-4\n",
            "data M135-3\n",
            "data M170-6\n",
            "data M160-5\n",
            "data M110-4\n",
            "data M100-3\n",
            "data M180-5\n",
            "data M250-5\n",
            "data M90-4\n"
          ]
        },
        {
          "output_type": "execute_result",
          "data": {
            "text/plain": [
              "         appart  maison  surface  nbHabs    date  heure   conso\n",
              "0             0       1      150       4  738503      0  0.7073\n",
              "1             0       1      150       4  738503      1  0.9777\n",
              "2             0       1      150       4  738503      2  0.6914\n",
              "3             0       1      150       4  738503      3  1.2878\n",
              "4             0       1      150       4  738503      4  1.0651\n",
              "...         ...     ...      ...     ...     ...    ...     ...\n",
              "6732955       0       1       90       4  737425     43  0.5098\n",
              "6732956       0       1       90       4  737425     44  0.6332\n",
              "6732957       0       1       90       4  737425     45  0.8680\n",
              "6732958       0       1       90       4  737425     46  0.8770\n",
              "6732959       0       1       90       4  737425     47  0.8349\n",
              "\n",
              "[6732960 rows x 7 columns]"
            ],
            "text/html": [
              "\n",
              "  <div id=\"df-d955f2f8-3855-4a0c-a923-1e9ccd07dc91\">\n",
              "    <div class=\"colab-df-container\">\n",
              "      <div>\n",
              "<style scoped>\n",
              "    .dataframe tbody tr th:only-of-type {\n",
              "        vertical-align: middle;\n",
              "    }\n",
              "\n",
              "    .dataframe tbody tr th {\n",
              "        vertical-align: top;\n",
              "    }\n",
              "\n",
              "    .dataframe thead th {\n",
              "        text-align: right;\n",
              "    }\n",
              "</style>\n",
              "<table border=\"1\" class=\"dataframe\">\n",
              "  <thead>\n",
              "    <tr style=\"text-align: right;\">\n",
              "      <th></th>\n",
              "      <th>appart</th>\n",
              "      <th>maison</th>\n",
              "      <th>surface</th>\n",
              "      <th>nbHabs</th>\n",
              "      <th>date</th>\n",
              "      <th>heure</th>\n",
              "      <th>conso</th>\n",
              "    </tr>\n",
              "  </thead>\n",
              "  <tbody>\n",
              "    <tr>\n",
              "      <th>0</th>\n",
              "      <td>0</td>\n",
              "      <td>1</td>\n",
              "      <td>150</td>\n",
              "      <td>4</td>\n",
              "      <td>738503</td>\n",
              "      <td>0</td>\n",
              "      <td>0.7073</td>\n",
              "    </tr>\n",
              "    <tr>\n",
              "      <th>1</th>\n",
              "      <td>0</td>\n",
              "      <td>1</td>\n",
              "      <td>150</td>\n",
              "      <td>4</td>\n",
              "      <td>738503</td>\n",
              "      <td>1</td>\n",
              "      <td>0.9777</td>\n",
              "    </tr>\n",
              "    <tr>\n",
              "      <th>2</th>\n",
              "      <td>0</td>\n",
              "      <td>1</td>\n",
              "      <td>150</td>\n",
              "      <td>4</td>\n",
              "      <td>738503</td>\n",
              "      <td>2</td>\n",
              "      <td>0.6914</td>\n",
              "    </tr>\n",
              "    <tr>\n",
              "      <th>3</th>\n",
              "      <td>0</td>\n",
              "      <td>1</td>\n",
              "      <td>150</td>\n",
              "      <td>4</td>\n",
              "      <td>738503</td>\n",
              "      <td>3</td>\n",
              "      <td>1.2878</td>\n",
              "    </tr>\n",
              "    <tr>\n",
              "      <th>4</th>\n",
              "      <td>0</td>\n",
              "      <td>1</td>\n",
              "      <td>150</td>\n",
              "      <td>4</td>\n",
              "      <td>738503</td>\n",
              "      <td>4</td>\n",
              "      <td>1.0651</td>\n",
              "    </tr>\n",
              "    <tr>\n",
              "      <th>...</th>\n",
              "      <td>...</td>\n",
              "      <td>...</td>\n",
              "      <td>...</td>\n",
              "      <td>...</td>\n",
              "      <td>...</td>\n",
              "      <td>...</td>\n",
              "      <td>...</td>\n",
              "    </tr>\n",
              "    <tr>\n",
              "      <th>6732955</th>\n",
              "      <td>0</td>\n",
              "      <td>1</td>\n",
              "      <td>90</td>\n",
              "      <td>4</td>\n",
              "      <td>737425</td>\n",
              "      <td>43</td>\n",
              "      <td>0.5098</td>\n",
              "    </tr>\n",
              "    <tr>\n",
              "      <th>6732956</th>\n",
              "      <td>0</td>\n",
              "      <td>1</td>\n",
              "      <td>90</td>\n",
              "      <td>4</td>\n",
              "      <td>737425</td>\n",
              "      <td>44</td>\n",
              "      <td>0.6332</td>\n",
              "    </tr>\n",
              "    <tr>\n",
              "      <th>6732957</th>\n",
              "      <td>0</td>\n",
              "      <td>1</td>\n",
              "      <td>90</td>\n",
              "      <td>4</td>\n",
              "      <td>737425</td>\n",
              "      <td>45</td>\n",
              "      <td>0.8680</td>\n",
              "    </tr>\n",
              "    <tr>\n",
              "      <th>6732958</th>\n",
              "      <td>0</td>\n",
              "      <td>1</td>\n",
              "      <td>90</td>\n",
              "      <td>4</td>\n",
              "      <td>737425</td>\n",
              "      <td>46</td>\n",
              "      <td>0.8770</td>\n",
              "    </tr>\n",
              "    <tr>\n",
              "      <th>6732959</th>\n",
              "      <td>0</td>\n",
              "      <td>1</td>\n",
              "      <td>90</td>\n",
              "      <td>4</td>\n",
              "      <td>737425</td>\n",
              "      <td>47</td>\n",
              "      <td>0.8349</td>\n",
              "    </tr>\n",
              "  </tbody>\n",
              "</table>\n",
              "<p>6732960 rows × 7 columns</p>\n",
              "</div>\n",
              "      <button class=\"colab-df-convert\" onclick=\"convertToInteractive('df-d955f2f8-3855-4a0c-a923-1e9ccd07dc91')\"\n",
              "              title=\"Convert this dataframe to an interactive table.\"\n",
              "              style=\"display:none;\">\n",
              "        \n",
              "  <svg xmlns=\"http://www.w3.org/2000/svg\" height=\"24px\"viewBox=\"0 0 24 24\"\n",
              "       width=\"24px\">\n",
              "    <path d=\"M0 0h24v24H0V0z\" fill=\"none\"/>\n",
              "    <path d=\"M18.56 5.44l.94 2.06.94-2.06 2.06-.94-2.06-.94-.94-2.06-.94 2.06-2.06.94zm-11 1L8.5 8.5l.94-2.06 2.06-.94-2.06-.94L8.5 2.5l-.94 2.06-2.06.94zm10 10l.94 2.06.94-2.06 2.06-.94-2.06-.94-.94-2.06-.94 2.06-2.06.94z\"/><path d=\"M17.41 7.96l-1.37-1.37c-.4-.4-.92-.59-1.43-.59-.52 0-1.04.2-1.43.59L10.3 9.45l-7.72 7.72c-.78.78-.78 2.05 0 2.83L4 21.41c.39.39.9.59 1.41.59.51 0 1.02-.2 1.41-.59l7.78-7.78 2.81-2.81c.8-.78.8-2.07 0-2.86zM5.41 20L4 18.59l7.72-7.72 1.47 1.35L5.41 20z\"/>\n",
              "  </svg>\n",
              "      </button>\n",
              "      \n",
              "  <style>\n",
              "    .colab-df-container {\n",
              "      display:flex;\n",
              "      flex-wrap:wrap;\n",
              "      gap: 12px;\n",
              "    }\n",
              "\n",
              "    .colab-df-convert {\n",
              "      background-color: #E8F0FE;\n",
              "      border: none;\n",
              "      border-radius: 50%;\n",
              "      cursor: pointer;\n",
              "      display: none;\n",
              "      fill: #1967D2;\n",
              "      height: 32px;\n",
              "      padding: 0 0 0 0;\n",
              "      width: 32px;\n",
              "    }\n",
              "\n",
              "    .colab-df-convert:hover {\n",
              "      background-color: #E2EBFA;\n",
              "      box-shadow: 0px 1px 2px rgba(60, 64, 67, 0.3), 0px 1px 3px 1px rgba(60, 64, 67, 0.15);\n",
              "      fill: #174EA6;\n",
              "    }\n",
              "\n",
              "    [theme=dark] .colab-df-convert {\n",
              "      background-color: #3B4455;\n",
              "      fill: #D2E3FC;\n",
              "    }\n",
              "\n",
              "    [theme=dark] .colab-df-convert:hover {\n",
              "      background-color: #434B5C;\n",
              "      box-shadow: 0px 1px 3px 1px rgba(0, 0, 0, 0.15);\n",
              "      filter: drop-shadow(0px 1px 2px rgba(0, 0, 0, 0.3));\n",
              "      fill: #FFFFFF;\n",
              "    }\n",
              "  </style>\n",
              "\n",
              "      <script>\n",
              "        const buttonEl =\n",
              "          document.querySelector('#df-d955f2f8-3855-4a0c-a923-1e9ccd07dc91 button.colab-df-convert');\n",
              "        buttonEl.style.display =\n",
              "          google.colab.kernel.accessAllowed ? 'block' : 'none';\n",
              "\n",
              "        async function convertToInteractive(key) {\n",
              "          const element = document.querySelector('#df-d955f2f8-3855-4a0c-a923-1e9ccd07dc91');\n",
              "          const dataTable =\n",
              "            await google.colab.kernel.invokeFunction('convertToInteractive',\n",
              "                                                     [key], {});\n",
              "          if (!dataTable) return;\n",
              "\n",
              "          const docLinkHtml = 'Like what you see? Visit the ' +\n",
              "            '<a target=\"_blank\" href=https://colab.research.google.com/notebooks/data_table.ipynb>data table notebook</a>'\n",
              "            + ' to learn more about interactive tables.';\n",
              "          element.innerHTML = '';\n",
              "          dataTable['output_type'] = 'display_data';\n",
              "          await google.colab.output.renderOutput(dataTable, element);\n",
              "          const docLink = document.createElement('div');\n",
              "          docLink.innerHTML = docLinkHtml;\n",
              "          element.appendChild(docLink);\n",
              "        }\n",
              "      </script>\n",
              "    </div>\n",
              "  </div>\n",
              "  "
            ]
          },
          "metadata": {},
          "execution_count": 5
        }
      ]
    },
    {
      "cell_type": "code",
      "source": [
        "dataByHouse.dtypes"
      ],
      "metadata": {
        "colab": {
          "base_uri": "https://localhost:8080/"
        },
        "id": "301Jz9ttJ6oV",
        "outputId": "f3b60bcc-7f32-421a-9563-fb183ae980f1"
      },
      "execution_count": null,
      "outputs": [
        {
          "output_type": "execute_result",
          "data": {
            "text/plain": [
              "typeLogement      int64\n",
              "surface           int64\n",
              "nbHabs            int64\n",
              "date              int64\n",
              "heure             int64\n",
              "conso           float64\n",
              "dtype: object"
            ]
          },
          "metadata": {},
          "execution_count": 9
        }
      ]
    },
    {
      "cell_type": "code",
      "source": [
        "dataByHouse.to_csv('/content/drive/Shareddrives/Etude de cas PSIE/15_premiers_fichiers.csv')"
      ],
      "metadata": {
        "id": "cTDkEH3LBWeh"
      },
      "execution_count": null,
      "outputs": []
    },
    {
      "cell_type": "code",
      "source": [
        "dataByHouse = pd.read_csv('/content/drive/Shareddrives/Etude de cas PSIE/15_premiers_fichiers.csv')"
      ],
      "metadata": {
        "id": "2acoyz-lBfVj"
      },
      "execution_count": null,
      "outputs": []
    },
    {
      "cell_type": "markdown",
      "source": [
        "## Modèle régression linéaire"
      ],
      "metadata": {
        "id": "vujc_yVB91da"
      }
    },
    {
      "cell_type": "code",
      "source": [
        "from sklearn.linear_model import LinearRegression"
      ],
      "metadata": {
        "id": "u0iW1AYv93pk"
      },
      "execution_count": null,
      "outputs": []
    },
    {
      "cell_type": "code",
      "source": [
        "X = dataByHouse[list(dataByHouse.columns)[:-1]]\n",
        "Y = dataByHouse['conso']\n",
        "model = LinearRegression().fit(X, Y)\n",
        "\n",
        "print(model.score(X, Y))"
      ],
      "metadata": {
        "colab": {
          "base_uri": "https://localhost:8080/"
        },
        "id": "pI7p0wT8-2UU",
        "outputId": "77f9bb37-7a22-4b23-adfe-4b9e79a1f734"
      },
      "execution_count": null,
      "outputs": [
        {
          "output_type": "stream",
          "name": "stdout",
          "text": [
            "0.27389713610890487\n"
          ]
        }
      ]
    },
    {
      "cell_type": "markdown",
      "source": [
        "A chier car la date et l'heure sont des variables qualitatives, et qu'il faut différencier le type de logement"
      ],
      "metadata": {
        "id": "YEI7nLju_-dd"
      }
    },
    {
      "cell_type": "markdown",
      "source": [
        "## Modèle LSTM"
      ],
      "metadata": {
        "id": "evk0f2v0AP1K"
      }
    },
    {
      "cell_type": "code",
      "source": [
        "import tensorflow as tf\n",
        "from tensorflow.keras.models import Sequential\n",
        "from tensorflow.keras.layers import Dense, LSTM, Input"
      ],
      "metadata": {
        "id": "5HOLGEuHARds"
      },
      "execution_count": null,
      "outputs": []
    },
    {
      "cell_type": "code",
      "source": [
        "dataByHouse.set_index('date')"
      ],
      "metadata": {
        "colab": {
          "base_uri": "https://localhost:8080/",
          "height": 455
        },
        "id": "l5J5AEXnIudd",
        "outputId": "8fe3d538-363e-4f1f-d4e0-9d3835a8f83c"
      },
      "execution_count": null,
      "outputs": [
        {
          "output_type": "execute_result",
          "data": {
            "text/plain": [
              "        appart  maison  surface  nbHabs  heure   conso\n",
              "date                                                  \n",
              "738503       0       1      150       4      0  0.7073\n",
              "738503       0       1      150       4      1  0.9777\n",
              "738503       0       1      150       4      2  0.6914\n",
              "738503       0       1      150       4      3  1.2878\n",
              "738503       0       1      150       4      4  1.0651\n",
              "...        ...     ...      ...     ...    ...     ...\n",
              "737425       0       1       90       4     43  0.5098\n",
              "737425       0       1       90       4     44  0.6332\n",
              "737425       0       1       90       4     45  0.8680\n",
              "737425       0       1       90       4     46  0.8770\n",
              "737425       0       1       90       4     47  0.8349\n",
              "\n",
              "[6732960 rows x 6 columns]"
            ],
            "text/html": [
              "\n",
              "  <div id=\"df-d6208536-d0ae-40d9-95cd-3f801d64cec3\">\n",
              "    <div class=\"colab-df-container\">\n",
              "      <div>\n",
              "<style scoped>\n",
              "    .dataframe tbody tr th:only-of-type {\n",
              "        vertical-align: middle;\n",
              "    }\n",
              "\n",
              "    .dataframe tbody tr th {\n",
              "        vertical-align: top;\n",
              "    }\n",
              "\n",
              "    .dataframe thead th {\n",
              "        text-align: right;\n",
              "    }\n",
              "</style>\n",
              "<table border=\"1\" class=\"dataframe\">\n",
              "  <thead>\n",
              "    <tr style=\"text-align: right;\">\n",
              "      <th></th>\n",
              "      <th>appart</th>\n",
              "      <th>maison</th>\n",
              "      <th>surface</th>\n",
              "      <th>nbHabs</th>\n",
              "      <th>heure</th>\n",
              "      <th>conso</th>\n",
              "    </tr>\n",
              "    <tr>\n",
              "      <th>date</th>\n",
              "      <th></th>\n",
              "      <th></th>\n",
              "      <th></th>\n",
              "      <th></th>\n",
              "      <th></th>\n",
              "      <th></th>\n",
              "    </tr>\n",
              "  </thead>\n",
              "  <tbody>\n",
              "    <tr>\n",
              "      <th>738503</th>\n",
              "      <td>0</td>\n",
              "      <td>1</td>\n",
              "      <td>150</td>\n",
              "      <td>4</td>\n",
              "      <td>0</td>\n",
              "      <td>0.7073</td>\n",
              "    </tr>\n",
              "    <tr>\n",
              "      <th>738503</th>\n",
              "      <td>0</td>\n",
              "      <td>1</td>\n",
              "      <td>150</td>\n",
              "      <td>4</td>\n",
              "      <td>1</td>\n",
              "      <td>0.9777</td>\n",
              "    </tr>\n",
              "    <tr>\n",
              "      <th>738503</th>\n",
              "      <td>0</td>\n",
              "      <td>1</td>\n",
              "      <td>150</td>\n",
              "      <td>4</td>\n",
              "      <td>2</td>\n",
              "      <td>0.6914</td>\n",
              "    </tr>\n",
              "    <tr>\n",
              "      <th>738503</th>\n",
              "      <td>0</td>\n",
              "      <td>1</td>\n",
              "      <td>150</td>\n",
              "      <td>4</td>\n",
              "      <td>3</td>\n",
              "      <td>1.2878</td>\n",
              "    </tr>\n",
              "    <tr>\n",
              "      <th>738503</th>\n",
              "      <td>0</td>\n",
              "      <td>1</td>\n",
              "      <td>150</td>\n",
              "      <td>4</td>\n",
              "      <td>4</td>\n",
              "      <td>1.0651</td>\n",
              "    </tr>\n",
              "    <tr>\n",
              "      <th>...</th>\n",
              "      <td>...</td>\n",
              "      <td>...</td>\n",
              "      <td>...</td>\n",
              "      <td>...</td>\n",
              "      <td>...</td>\n",
              "      <td>...</td>\n",
              "    </tr>\n",
              "    <tr>\n",
              "      <th>737425</th>\n",
              "      <td>0</td>\n",
              "      <td>1</td>\n",
              "      <td>90</td>\n",
              "      <td>4</td>\n",
              "      <td>43</td>\n",
              "      <td>0.5098</td>\n",
              "    </tr>\n",
              "    <tr>\n",
              "      <th>737425</th>\n",
              "      <td>0</td>\n",
              "      <td>1</td>\n",
              "      <td>90</td>\n",
              "      <td>4</td>\n",
              "      <td>44</td>\n",
              "      <td>0.6332</td>\n",
              "    </tr>\n",
              "    <tr>\n",
              "      <th>737425</th>\n",
              "      <td>0</td>\n",
              "      <td>1</td>\n",
              "      <td>90</td>\n",
              "      <td>4</td>\n",
              "      <td>45</td>\n",
              "      <td>0.8680</td>\n",
              "    </tr>\n",
              "    <tr>\n",
              "      <th>737425</th>\n",
              "      <td>0</td>\n",
              "      <td>1</td>\n",
              "      <td>90</td>\n",
              "      <td>4</td>\n",
              "      <td>46</td>\n",
              "      <td>0.8770</td>\n",
              "    </tr>\n",
              "    <tr>\n",
              "      <th>737425</th>\n",
              "      <td>0</td>\n",
              "      <td>1</td>\n",
              "      <td>90</td>\n",
              "      <td>4</td>\n",
              "      <td>47</td>\n",
              "      <td>0.8349</td>\n",
              "    </tr>\n",
              "  </tbody>\n",
              "</table>\n",
              "<p>6732960 rows × 6 columns</p>\n",
              "</div>\n",
              "      <button class=\"colab-df-convert\" onclick=\"convertToInteractive('df-d6208536-d0ae-40d9-95cd-3f801d64cec3')\"\n",
              "              title=\"Convert this dataframe to an interactive table.\"\n",
              "              style=\"display:none;\">\n",
              "        \n",
              "  <svg xmlns=\"http://www.w3.org/2000/svg\" height=\"24px\"viewBox=\"0 0 24 24\"\n",
              "       width=\"24px\">\n",
              "    <path d=\"M0 0h24v24H0V0z\" fill=\"none\"/>\n",
              "    <path d=\"M18.56 5.44l.94 2.06.94-2.06 2.06-.94-2.06-.94-.94-2.06-.94 2.06-2.06.94zm-11 1L8.5 8.5l.94-2.06 2.06-.94-2.06-.94L8.5 2.5l-.94 2.06-2.06.94zm10 10l.94 2.06.94-2.06 2.06-.94-2.06-.94-.94-2.06-.94 2.06-2.06.94z\"/><path d=\"M17.41 7.96l-1.37-1.37c-.4-.4-.92-.59-1.43-.59-.52 0-1.04.2-1.43.59L10.3 9.45l-7.72 7.72c-.78.78-.78 2.05 0 2.83L4 21.41c.39.39.9.59 1.41.59.51 0 1.02-.2 1.41-.59l7.78-7.78 2.81-2.81c.8-.78.8-2.07 0-2.86zM5.41 20L4 18.59l7.72-7.72 1.47 1.35L5.41 20z\"/>\n",
              "  </svg>\n",
              "      </button>\n",
              "      \n",
              "  <style>\n",
              "    .colab-df-container {\n",
              "      display:flex;\n",
              "      flex-wrap:wrap;\n",
              "      gap: 12px;\n",
              "    }\n",
              "\n",
              "    .colab-df-convert {\n",
              "      background-color: #E8F0FE;\n",
              "      border: none;\n",
              "      border-radius: 50%;\n",
              "      cursor: pointer;\n",
              "      display: none;\n",
              "      fill: #1967D2;\n",
              "      height: 32px;\n",
              "      padding: 0 0 0 0;\n",
              "      width: 32px;\n",
              "    }\n",
              "\n",
              "    .colab-df-convert:hover {\n",
              "      background-color: #E2EBFA;\n",
              "      box-shadow: 0px 1px 2px rgba(60, 64, 67, 0.3), 0px 1px 3px 1px rgba(60, 64, 67, 0.15);\n",
              "      fill: #174EA6;\n",
              "    }\n",
              "\n",
              "    [theme=dark] .colab-df-convert {\n",
              "      background-color: #3B4455;\n",
              "      fill: #D2E3FC;\n",
              "    }\n",
              "\n",
              "    [theme=dark] .colab-df-convert:hover {\n",
              "      background-color: #434B5C;\n",
              "      box-shadow: 0px 1px 3px 1px rgba(0, 0, 0, 0.15);\n",
              "      filter: drop-shadow(0px 1px 2px rgba(0, 0, 0, 0.3));\n",
              "      fill: #FFFFFF;\n",
              "    }\n",
              "  </style>\n",
              "\n",
              "      <script>\n",
              "        const buttonEl =\n",
              "          document.querySelector('#df-d6208536-d0ae-40d9-95cd-3f801d64cec3 button.colab-df-convert');\n",
              "        buttonEl.style.display =\n",
              "          google.colab.kernel.accessAllowed ? 'block' : 'none';\n",
              "\n",
              "        async function convertToInteractive(key) {\n",
              "          const element = document.querySelector('#df-d6208536-d0ae-40d9-95cd-3f801d64cec3');\n",
              "          const dataTable =\n",
              "            await google.colab.kernel.invokeFunction('convertToInteractive',\n",
              "                                                     [key], {});\n",
              "          if (!dataTable) return;\n",
              "\n",
              "          const docLinkHtml = 'Like what you see? Visit the ' +\n",
              "            '<a target=\"_blank\" href=https://colab.research.google.com/notebooks/data_table.ipynb>data table notebook</a>'\n",
              "            + ' to learn more about interactive tables.';\n",
              "          element.innerHTML = '';\n",
              "          dataTable['output_type'] = 'display_data';\n",
              "          await google.colab.output.renderOutput(dataTable, element);\n",
              "          const docLink = document.createElement('div');\n",
              "          docLink.innerHTML = docLinkHtml;\n",
              "          element.appendChild(docLink);\n",
              "        }\n",
              "      </script>\n",
              "    </div>\n",
              "  </div>\n",
              "  "
            ]
          },
          "metadata": {},
          "execution_count": 7
        }
      ]
    },
    {
      "cell_type": "code",
      "source": [
        "trainX = dataByHouse.drop('conso', axis = 1)\n",
        "trainY = dataByHouse['conso']"
      ],
      "metadata": {
        "id": "SFptcvnhEvuh"
      },
      "execution_count": null,
      "outputs": []
    },
    {
      "cell_type": "code",
      "source": [
        "dataByHouse.shape"
      ],
      "metadata": {
        "colab": {
          "base_uri": "https://localhost:8080/"
        },
        "id": "JeFazTUNFLmb",
        "outputId": "33c6c54b-5b06-4182-9999-fbb3adaea5e5"
      },
      "execution_count": null,
      "outputs": [
        {
          "output_type": "execute_result",
          "data": {
            "text/plain": [
              "(6732960, 7)"
            ]
          },
          "metadata": {},
          "execution_count": 93
        }
      ]
    },
    {
      "cell_type": "code",
      "source": [
        "model = Sequential()\n",
        "model.add(\n",
        "    Input(shape=(1, 6), name=\"Input\")\n",
        ")\n",
        "model.add(\n",
        "    LSTM(32, name=\"LSTM\", dropout=0.1)\n",
        ")\n",
        "model.add(\n",
        "    Dense(1, name=\"Output\")\n",
        ")\n",
        "model.compile(loss='mean_squared_error', optimizer='adam')\n",
        "model.summary()"
      ],
      "metadata": {
        "colab": {
          "base_uri": "https://localhost:8080/"
        },
        "id": "lSo05PjBEmj3",
        "outputId": "060153c6-958c-4810-ceaa-907c7544b7bc"
      },
      "execution_count": null,
      "outputs": [
        {
          "output_type": "stream",
          "name": "stdout",
          "text": [
            "Model: \"sequential_1\"\n",
            "_________________________________________________________________\n",
            " Layer (type)                Output Shape              Param #   \n",
            "=================================================================\n",
            " Hidden (Dense)              (None, 1, 64)             448       \n",
            "                                                                 \n",
            " LSTM (LSTM)                 (None, 30)                11400     \n",
            "                                                                 \n",
            " Output (Dense)              (None, 1)                 31        \n",
            "                                                                 \n",
            "=================================================================\n",
            "Total params: 11,879\n",
            "Trainable params: 11,879\n",
            "Non-trainable params: 0\n",
            "_________________________________________________________________\n"
          ]
        }
      ]
    },
    {
      "cell_type": "code",
      "source": [
        "history = model.fit(tf.expand_dims(trainX, axis=1), trainY, epochs=5, batch_size=2000, verbose=1)"
      ],
      "metadata": {
        "colab": {
          "base_uri": "https://localhost:8080/"
        },
        "id": "-XaEo3DhIHcd",
        "outputId": "4b482fd9-9b03-4f20-d265-3e5f7c665a83"
      },
      "execution_count": null,
      "outputs": [
        {
          "output_type": "stream",
          "name": "stdout",
          "text": [
            "Epoch 1/5\n",
            "3367/3367 [==============================] - 42s 12ms/step - loss: 0.3965\n",
            "Epoch 2/5\n",
            "3367/3367 [==============================] - 39s 12ms/step - loss: 0.3901\n",
            "Epoch 3/5\n",
            "3367/3367 [==============================] - 40s 12ms/step - loss: 0.3899\n",
            "Epoch 4/5\n",
            "3367/3367 [==============================] - 38s 11ms/step - loss: 0.3899\n",
            "Epoch 5/5\n",
            "3367/3367 [==============================] - 38s 11ms/step - loss: 0.3898\n"
          ]
        }
      ]
    },
    {
      "cell_type": "code",
      "source": [
        "import matplotlib.pyplot as plt"
      ],
      "metadata": {
        "id": "ZkYwm76G_6wQ"
      },
      "execution_count": null,
      "outputs": []
    },
    {
      "cell_type": "code",
      "source": [
        "def plot_learning_curves(history):\n",
        "    plt.figure(figsize=(10,5))\n",
        "    plt.plot(history.history['loss'])\n",
        "    plt.title('Model loss')\n",
        "    plt.ylabel('loss')\n",
        "    plt.xlabel('#epoch')\n",
        "    plt.legend(['train', 'test'], loc='upper left')\n",
        "    plt.show()"
      ],
      "metadata": {
        "id": "lK-r-6Ht_9Fy"
      },
      "execution_count": null,
      "outputs": []
    },
    {
      "cell_type": "code",
      "source": [
        "plot_learning_curves(history)"
      ],
      "metadata": {
        "colab": {
          "base_uri": "https://localhost:8080/",
          "height": 350
        },
        "id": "cui__NUl-77r",
        "outputId": "ed740d4e-5e5e-404c-bf90-9a115bf27fa7"
      },
      "execution_count": null,
      "outputs": [
        {
          "output_type": "display_data",
          "data": {
            "text/plain": [
              "<Figure size 720x360 with 1 Axes>"
            ],
            "image/png": "[encoded data removed]"
          },
          "metadata": {
            "needs_background": "light"
          }
        }
      ]
    },
    {
      "cell_type": "code",
      "source": [
        "model.predict(tf.expand_dims(\n",
        "    [[1, 0, 90, 3, 737425, 0], [1, 0, 90, 3, 737425, 10]]\n",
        "    , axis = 1\n",
        "))"
      ],
      "metadata": {
        "colab": {
          "base_uri": "https://localhost:8080/"
        },
        "id": "NvoOZxJ_EmQP",
        "outputId": "629ac1ca-d289-49cc-bb77-c6b526f4cba5"
      },
      "execution_count": null,
      "outputs": [
        {
          "output_type": "stream",
          "name": "stdout",
          "text": [
            "1/1 [==============================] - 0s 20ms/step\n"
          ]
        },
        {
          "output_type": "execute_result",
          "data": {
            "text/plain": [
              "array([[0.6292785],\n",
              "       [0.6292785]], dtype=float32)"
            ]
          },
          "metadata": {},
          "execution_count": 83
        }
      ]
    },
    {
      "cell_type": "markdown",
      "source": [
        "## Modèle regressoin logistique"
      ],
      "metadata": {
        "id": "i9LgKhKsM_fX"
      }
    },
    {
      "cell_type": "markdown",
      "source": [
        "https://towardsdatascience.com/replicate-a-logistic-regression-model-as-an-artificial-neural-network-in-keras-cd6f49cf4b2c"
      ],
      "metadata": {
        "id": "Zuqa2QBA-ZJR"
      }
    },
    {
      "cell_type": "code",
      "source": [
        "from sklearn.linear_model import LogisticRegressionCV\n",
        "from sklearn.metrics import accuracy_score\n",
        "from sklearn.metrics import precision_recall_fscore_support\n",
        "from sklearn.model_selection import train_test_split"
      ],
      "metadata": {
        "id": "-vFVv9Wj9cDl"
      },
      "execution_count": null,
      "outputs": []
    },
    {
      "cell_type": "code",
      "source": [
        "X_train, X_test, y_train, y_test = train_test_split(dataByHouse.drop('conso', axis = 1), dataByHouse['conso'], test_size=0.20, shuffle=True, random_state=2)"
      ],
      "metadata": {
        "id": "XInZmXSM9p_W"
      },
      "execution_count": null,
      "outputs": []
    },
    {
      "cell_type": "code",
      "source": [
        "y_train.dtypes"
      ],
      "metadata": {
        "colab": {
          "base_uri": "https://localhost:8080/"
        },
        "id": "iJvAmcTD_EHI",
        "outputId": "613ffd9a-cf20-4e84-a755-d02df88fde56"
      },
      "execution_count": null,
      "outputs": [
        {
          "output_type": "execute_result",
          "data": {
            "text/plain": [
              "dtype('float64')"
            ]
          },
          "metadata": {},
          "execution_count": 20
        }
      ]
    },
    {
      "cell_type": "code",
      "source": [
        "logRegModel = LogisticRegressionCV(max_iter=2500)\n",
        "\n",
        "logRegModel.fit(X_train, y_train)"
      ],
      "metadata": {
        "colab": {
          "base_uri": "https://localhost:8080/",
          "height": 349
        },
        "id": "A-aileEi9lPg",
        "outputId": "1020f884-3604-4e09-9dd6-63fc935938cb"
      },
      "execution_count": null,
      "outputs": [
        {
          "output_type": "error",
          "ename": "ValueError",
          "evalue": "ignored",
          "traceback": [
            "\u001b[0;31m---------------------------------------------------------------------------\u001b[0m",
            "\u001b[0;31mValueError\u001b[0m                                Traceback (most recent call last)",
            "\u001b[0;32m<ipython-input-17-4709ae3431b9>\u001b[0m in \u001b[0;36m<module>\u001b[0;34m\u001b[0m\n\u001b[1;32m      1\u001b[0m \u001b[0mlogRegModel\u001b[0m \u001b[0;34m=\u001b[0m \u001b[0mLogisticRegressionCV\u001b[0m\u001b[0;34m(\u001b[0m\u001b[0mmax_iter\u001b[0m\u001b[0;34m=\u001b[0m\u001b[0;36m2500\u001b[0m\u001b[0;34m)\u001b[0m\u001b[0;34m\u001b[0m\u001b[0;34m\u001b[0m\u001b[0m\n\u001b[1;32m      2\u001b[0m \u001b[0;34m\u001b[0m\u001b[0m\n\u001b[0;32m----> 3\u001b[0;31m \u001b[0mlogRegModel\u001b[0m\u001b[0;34m.\u001b[0m\u001b[0mfit\u001b[0m\u001b[0;34m(\u001b[0m\u001b[0mX_train\u001b[0m\u001b[0;34m,\u001b[0m \u001b[0my_train\u001b[0m\u001b[0;34m)\u001b[0m\u001b[0;34m\u001b[0m\u001b[0;34m\u001b[0m\u001b[0m\n\u001b[0m",
            "\u001b[0;32m/usr/local/lib/python3.8/dist-packages/sklearn/linear_model/_logistic.py\u001b[0m in \u001b[0;36mfit\u001b[0;34m(self, X, y, sample_weight)\u001b[0m\n\u001b[1;32m   2083\u001b[0m             \u001b[0maccept_large_sparse\u001b[0m\u001b[0;34m=\u001b[0m\u001b[0msolver\u001b[0m \u001b[0;32mnot\u001b[0m \u001b[0;32min\u001b[0m \u001b[0;34m[\u001b[0m\u001b[0;34m\"liblinear\"\u001b[0m\u001b[0;34m,\u001b[0m \u001b[0;34m\"sag\"\u001b[0m\u001b[0;34m,\u001b[0m \u001b[0;34m\"saga\"\u001b[0m\u001b[0;34m]\u001b[0m\u001b[0;34m,\u001b[0m\u001b[0;34m\u001b[0m\u001b[0;34m\u001b[0m\u001b[0m\n\u001b[1;32m   2084\u001b[0m         )\n\u001b[0;32m-> 2085\u001b[0;31m         \u001b[0mcheck_classification_targets\u001b[0m\u001b[0;34m(\u001b[0m\u001b[0my\u001b[0m\u001b[0;34m)\u001b[0m\u001b[0;34m\u001b[0m\u001b[0;34m\u001b[0m\u001b[0m\n\u001b[0m\u001b[1;32m   2086\u001b[0m \u001b[0;34m\u001b[0m\u001b[0m\n\u001b[1;32m   2087\u001b[0m         \u001b[0mclass_weight\u001b[0m \u001b[0;34m=\u001b[0m \u001b[0mself\u001b[0m\u001b[0;34m.\u001b[0m\u001b[0mclass_weight\u001b[0m\u001b[0;34m\u001b[0m\u001b[0;34m\u001b[0m\u001b[0m\n",
            "\u001b[0;32m/usr/local/lib/python3.8/dist-packages/sklearn/utils/multiclass.py\u001b[0m in \u001b[0;36mcheck_classification_targets\u001b[0;34m(y)\u001b[0m\n\u001b[1;32m    195\u001b[0m         \u001b[0;34m\"multilabel-sequences\"\u001b[0m\u001b[0;34m,\u001b[0m\u001b[0;34m\u001b[0m\u001b[0;34m\u001b[0m\u001b[0m\n\u001b[1;32m    196\u001b[0m     ]:\n\u001b[0;32m--> 197\u001b[0;31m         \u001b[0;32mraise\u001b[0m \u001b[0mValueError\u001b[0m\u001b[0;34m(\u001b[0m\u001b[0;34m\"Unknown label type: %r\"\u001b[0m \u001b[0;34m%\u001b[0m \u001b[0my_type\u001b[0m\u001b[0;34m)\u001b[0m\u001b[0;34m\u001b[0m\u001b[0;34m\u001b[0m\u001b[0m\n\u001b[0m\u001b[1;32m    198\u001b[0m \u001b[0;34m\u001b[0m\u001b[0m\n\u001b[1;32m    199\u001b[0m \u001b[0;34m\u001b[0m\u001b[0m\n",
            "\u001b[0;31mValueError\u001b[0m: Unknown label type: 'continuous'"
          ]
        }
      ]
    },
    {
      "cell_type": "code",
      "source": [
        "y_pred = log_reg_model.predict(X_test)\n",
        "y_true = y_test\n",
        "\n",
        "print(\"Accuracy:\", np.round(accuracy_score(y_true, y_pred), 2))\n",
        "precision, recall, fscore, _ = precision_recall_fscore_support(y_true, y_pred, average='binary')\n",
        "print(\"Precision:\", np.round(precision, 2))\n",
        "print(\"Recall:\", np.round(recall, 2))\n",
        "print(\"F-Score:\", np.round(fscore, 2))"
      ],
      "metadata": {
        "id": "8_qOhU47-GlX"
      },
      "execution_count": null,
      "outputs": []
    },
    {
      "cell_type": "markdown",
      "source": [
        "Marche pas car sortie n'est pas continue"
      ],
      "metadata": {
        "id": "DF7IPRqn_vTl"
      }
    },
    {
      "cell_type": "markdown",
      "source": [
        "## Modèle SARIMA"
      ],
      "metadata": {
        "id": "2syC7SYTAkSI"
      }
    },
    {
      "cell_type": "markdown",
      "source": [
        "https://www.statsmodels.org/dev/generated/statsmodels.tsa.arima.model.ARIMA.html  \n",
        "6.57 Go le modèle"
      ],
      "metadata": {
        "id": "BqnORSpdHlNu"
      }
    },
    {
      "cell_type": "code",
      "source": [
        "from statsmodels.tsa.arima.model import ARIMA\n",
        "from statsmodels.tsa.arima_model import ARIMAResults"
      ],
      "metadata": {
        "id": "Snc0LegDAmTe"
      },
      "execution_count": null,
      "outputs": []
    },
    {
      "cell_type": "code",
      "source": [
        "X = dataByHouse.drop(['conso'], axis = 1)\n",
        "Y = dataByHouse['conso']"
      ],
      "metadata": {
        "id": "2mz0Sl5gEVkH"
      },
      "execution_count": null,
      "outputs": []
    },
    {
      "cell_type": "code",
      "source": [
        "mod = ARIMA(endog=Y, exog=X)\n",
        "res = mod.fit()"
      ],
      "metadata": {
        "id": "3RERis0CEPjr"
      },
      "execution_count": null,
      "outputs": []
    },
    {
      "cell_type": "code",
      "source": [
        "res.save('/content/drive/Shareddrives/Etude de cas PSIE/arima.pkl')"
      ],
      "metadata": {
        "id": "UaB3rW0fYn5e"
      },
      "execution_count": null,
      "outputs": []
    },
    {
      "cell_type": "code",
      "source": [
        "mod = ARIMAResults.load('/content/drive/Shareddrives/Etude de cas PSIE/arima.pkl')"
      ],
      "metadata": {
        "id": "dHfJMoSF0esz"
      },
      "execution_count": null,
      "outputs": []
    },
    {
      "cell_type": "code",
      "source": [
        "mod.predict([1, 150, 4, 738503, 5, 1])"
      ],
      "metadata": {
        "colab": {
          "base_uri": "https://localhost:8080/",
          "height": 1000
        },
        "id": "hiv1ekiC4WDC",
        "outputId": "50c20121-a56d-4ebf-eddb-1c1bdd38ac4d"
      },
      "execution_count": null,
      "outputs": [
        {
          "output_type": "error",
          "ename": "TypeError",
          "evalue": "ignored",
          "traceback": [
            "\u001b[0;31m---------------------------------------------------------------------------\u001b[0m",
            "\u001b[0;31mTypeError\u001b[0m                                 Traceback (most recent call last)",
            "\u001b[0;32m<ipython-input-9-35c09b4277e0>\u001b[0m in \u001b[0;36m<module>\u001b[0;34m\u001b[0m\n\u001b[0;32m----> 1\u001b[0;31m \u001b[0mmod\u001b[0m\u001b[0;34m.\u001b[0m\u001b[0mpredict\u001b[0m\u001b[0;34m(\u001b[0m\u001b[0;34m[\u001b[0m\u001b[0;36m1\u001b[0m\u001b[0;34m,\u001b[0m \u001b[0;36m150\u001b[0m\u001b[0;34m,\u001b[0m \u001b[0;36m4\u001b[0m\u001b[0;34m,\u001b[0m \u001b[0;36m738503\u001b[0m\u001b[0;34m,\u001b[0m \u001b[0;36m5\u001b[0m\u001b[0;34m,\u001b[0m \u001b[0;36m1\u001b[0m\u001b[0;34m]\u001b[0m\u001b[0;34m)\u001b[0m\u001b[0;34m\u001b[0m\u001b[0;34m\u001b[0m\u001b[0m\n\u001b[0m",
            "\u001b[0;32m/usr/local/lib/python3.8/dist-packages/statsmodels/base/wrapper.py\u001b[0m in \u001b[0;36mwrapper\u001b[0;34m(self, *args, **kwargs)\u001b[0m\n\u001b[1;32m    111\u001b[0m             \u001b[0mobj\u001b[0m \u001b[0;34m=\u001b[0m \u001b[0mdata\u001b[0m\u001b[0;34m.\u001b[0m\u001b[0mwrap_output\u001b[0m\u001b[0;34m(\u001b[0m\u001b[0mfunc\u001b[0m\u001b[0;34m(\u001b[0m\u001b[0mresults\u001b[0m\u001b[0;34m,\u001b[0m \u001b[0;34m*\u001b[0m\u001b[0margs\u001b[0m\u001b[0;34m,\u001b[0m \u001b[0;34m**\u001b[0m\u001b[0mkwargs\u001b[0m\u001b[0;34m)\u001b[0m\u001b[0;34m,\u001b[0m \u001b[0mhow\u001b[0m\u001b[0;34m[\u001b[0m\u001b[0;36m0\u001b[0m\u001b[0;34m]\u001b[0m\u001b[0;34m,\u001b[0m \u001b[0mhow\u001b[0m\u001b[0;34m[\u001b[0m\u001b[0;36m1\u001b[0m\u001b[0;34m:\u001b[0m\u001b[0;34m]\u001b[0m\u001b[0;34m)\u001b[0m\u001b[0;34m\u001b[0m\u001b[0;34m\u001b[0m\u001b[0m\n\u001b[1;32m    112\u001b[0m         \u001b[0;32melif\u001b[0m \u001b[0mhow\u001b[0m\u001b[0;34m:\u001b[0m\u001b[0;34m\u001b[0m\u001b[0;34m\u001b[0m\u001b[0m\n\u001b[0;32m--> 113\u001b[0;31m             \u001b[0mobj\u001b[0m \u001b[0;34m=\u001b[0m \u001b[0mdata\u001b[0m\u001b[0;34m.\u001b[0m\u001b[0mwrap_output\u001b[0m\u001b[0;34m(\u001b[0m\u001b[0mfunc\u001b[0m\u001b[0;34m(\u001b[0m\u001b[0mresults\u001b[0m\u001b[0;34m,\u001b[0m \u001b[0;34m*\u001b[0m\u001b[0margs\u001b[0m\u001b[0;34m,\u001b[0m \u001b[0;34m**\u001b[0m\u001b[0mkwargs\u001b[0m\u001b[0;34m)\u001b[0m\u001b[0;34m,\u001b[0m \u001b[0mhow\u001b[0m\u001b[0;34m)\u001b[0m\u001b[0;34m\u001b[0m\u001b[0;34m\u001b[0m\u001b[0m\n\u001b[0m\u001b[1;32m    114\u001b[0m         \u001b[0;32mreturn\u001b[0m \u001b[0mobj\u001b[0m\u001b[0;34m\u001b[0m\u001b[0;34m\u001b[0m\u001b[0m\n\u001b[1;32m    115\u001b[0m \u001b[0;34m\u001b[0m\u001b[0m\n",
            "\u001b[0;32m/usr/local/lib/python3.8/dist-packages/statsmodels/tsa/statespace/mlemodel.py\u001b[0m in \u001b[0;36mpredict\u001b[0;34m(self, start, end, dynamic, **kwargs)\u001b[0m\n\u001b[1;32m   3386\u001b[0m         \"\"\"\n\u001b[1;32m   3387\u001b[0m         \u001b[0;31m# Perform the prediction\u001b[0m\u001b[0;34m\u001b[0m\u001b[0;34m\u001b[0m\u001b[0;34m\u001b[0m\u001b[0m\n\u001b[0;32m-> 3388\u001b[0;31m         \u001b[0mprediction_results\u001b[0m \u001b[0;34m=\u001b[0m \u001b[0mself\u001b[0m\u001b[0;34m.\u001b[0m\u001b[0mget_prediction\u001b[0m\u001b[0;34m(\u001b[0m\u001b[0mstart\u001b[0m\u001b[0;34m,\u001b[0m \u001b[0mend\u001b[0m\u001b[0;34m,\u001b[0m \u001b[0mdynamic\u001b[0m\u001b[0;34m,\u001b[0m \u001b[0;34m**\u001b[0m\u001b[0mkwargs\u001b[0m\u001b[0;34m)\u001b[0m\u001b[0;34m\u001b[0m\u001b[0;34m\u001b[0m\u001b[0m\n\u001b[0m\u001b[1;32m   3389\u001b[0m         \u001b[0;32mreturn\u001b[0m \u001b[0mprediction_results\u001b[0m\u001b[0;34m.\u001b[0m\u001b[0mpredicted_mean\u001b[0m\u001b[0;34m\u001b[0m\u001b[0;34m\u001b[0m\u001b[0m\n\u001b[1;32m   3390\u001b[0m \u001b[0;34m\u001b[0m\u001b[0m\n",
            "\u001b[0;32m/usr/local/lib/python3.8/dist-packages/statsmodels/tsa/statespace/mlemodel.py\u001b[0m in \u001b[0;36mget_prediction\u001b[0;34m(self, start, end, dynamic, index, exog, extend_model, extend_kwargs, **kwargs)\u001b[0m\n\u001b[1;32m   3284\u001b[0m         \u001b[0;31m# Handle start, end, dynamic\u001b[0m\u001b[0;34m\u001b[0m\u001b[0;34m\u001b[0m\u001b[0;34m\u001b[0m\u001b[0m\n\u001b[1;32m   3285\u001b[0m         start, end, out_of_sample, prediction_index = (\n\u001b[0;32m-> 3286\u001b[0;31m             self.model._get_prediction_index(start, end, index))\n\u001b[0m\u001b[1;32m   3287\u001b[0m \u001b[0;34m\u001b[0m\u001b[0m\n\u001b[1;32m   3288\u001b[0m         \u001b[0;31m# Handle `dynamic`\u001b[0m\u001b[0;34m\u001b[0m\u001b[0;34m\u001b[0m\u001b[0;34m\u001b[0m\u001b[0m\n",
            "\u001b[0;32m/usr/local/lib/python3.8/dist-packages/statsmodels/tsa/base/tsa_model.py\u001b[0m in \u001b[0;36m_get_prediction_index\u001b[0;34m(self, start, end, index, silent)\u001b[0m\n\u001b[1;32m    736\u001b[0m         \"\"\"\n\u001b[1;32m    737\u001b[0m         \u001b[0mnobs\u001b[0m \u001b[0;34m=\u001b[0m \u001b[0mlen\u001b[0m\u001b[0;34m(\u001b[0m\u001b[0mself\u001b[0m\u001b[0;34m.\u001b[0m\u001b[0mendog\u001b[0m\u001b[0;34m)\u001b[0m\u001b[0;34m\u001b[0m\u001b[0;34m\u001b[0m\u001b[0m\n\u001b[0;32m--> 738\u001b[0;31m         return get_prediction_index(start,\n\u001b[0m\u001b[1;32m    739\u001b[0m                                     \u001b[0mend\u001b[0m\u001b[0;34m,\u001b[0m\u001b[0;34m\u001b[0m\u001b[0;34m\u001b[0m\u001b[0m\n\u001b[1;32m    740\u001b[0m                                     \u001b[0mnobs\u001b[0m\u001b[0;34m,\u001b[0m\u001b[0;34m\u001b[0m\u001b[0;34m\u001b[0m\u001b[0m\n",
            "\u001b[0;32m/usr/local/lib/python3.8/dist-packages/statsmodels/tsa/base/tsa_model.py\u001b[0m in \u001b[0;36mget_prediction_index\u001b[0;34m(start, end, nobs, base_index, index, silent, index_none, index_generated, data)\u001b[0m\n\u001b[1;32m    322\u001b[0m     \u001b[0;31m# indexes.\u001b[0m\u001b[0;34m\u001b[0m\u001b[0;34m\u001b[0m\u001b[0;34m\u001b[0m\u001b[0m\n\u001b[1;32m    323\u001b[0m     \u001b[0;32mtry\u001b[0m\u001b[0;34m:\u001b[0m\u001b[0;34m\u001b[0m\u001b[0;34m\u001b[0m\u001b[0m\n\u001b[0;32m--> 324\u001b[0;31m         \u001b[0mstart\u001b[0m\u001b[0;34m,\u001b[0m \u001b[0m_\u001b[0m\u001b[0;34m,\u001b[0m \u001b[0mstart_oos\u001b[0m \u001b[0;34m=\u001b[0m \u001b[0mget_index_label_loc\u001b[0m\u001b[0;34m(\u001b[0m\u001b[0mstart\u001b[0m\u001b[0;34m,\u001b[0m \u001b[0mbase_index\u001b[0m\u001b[0;34m,\u001b[0m \u001b[0mdata\u001b[0m\u001b[0;34m.\u001b[0m\u001b[0mrow_labels\u001b[0m\u001b[0;34m)\u001b[0m\u001b[0;34m\u001b[0m\u001b[0;34m\u001b[0m\u001b[0m\n\u001b[0m\u001b[1;32m    325\u001b[0m     \u001b[0;32mexcept\u001b[0m \u001b[0mKeyError\u001b[0m\u001b[0;34m:\u001b[0m\u001b[0;34m\u001b[0m\u001b[0;34m\u001b[0m\u001b[0m\n\u001b[1;32m    326\u001b[0m         raise KeyError('The `start` argument could not be matched to a'\n",
            "\u001b[0;32m/usr/local/lib/python3.8/dist-packages/statsmodels/tsa/base/tsa_model.py\u001b[0m in \u001b[0;36mget_index_label_loc\u001b[0;34m(key, index, row_labels)\u001b[0m\n\u001b[1;32m    218\u001b[0m     \"\"\"\n\u001b[1;32m    219\u001b[0m     \u001b[0;32mtry\u001b[0m\u001b[0;34m:\u001b[0m\u001b[0;34m\u001b[0m\u001b[0;34m\u001b[0m\u001b[0m\n\u001b[0;32m--> 220\u001b[0;31m         \u001b[0mloc\u001b[0m\u001b[0;34m,\u001b[0m \u001b[0mindex\u001b[0m\u001b[0;34m,\u001b[0m \u001b[0mindex_was_expanded\u001b[0m \u001b[0;34m=\u001b[0m \u001b[0mget_index_loc\u001b[0m\u001b[0;34m(\u001b[0m\u001b[0mkey\u001b[0m\u001b[0;34m,\u001b[0m \u001b[0mindex\u001b[0m\u001b[0;34m)\u001b[0m\u001b[0;34m\u001b[0m\u001b[0;34m\u001b[0m\u001b[0m\n\u001b[0m\u001b[1;32m    221\u001b[0m     \u001b[0;32mexcept\u001b[0m \u001b[0mKeyError\u001b[0m \u001b[0;32mas\u001b[0m \u001b[0me\u001b[0m\u001b[0;34m:\u001b[0m\u001b[0;34m\u001b[0m\u001b[0;34m\u001b[0m\u001b[0m\n\u001b[1;32m    222\u001b[0m         \u001b[0;32mtry\u001b[0m\u001b[0;34m:\u001b[0m\u001b[0;34m\u001b[0m\u001b[0;34m\u001b[0m\u001b[0m\n",
            "\u001b[0;32m/usr/local/lib/python3.8/dist-packages/statsmodels/tsa/base/tsa_model.py\u001b[0m in \u001b[0;36mget_index_loc\u001b[0;34m(key, index)\u001b[0m\n\u001b[1;32m    182\u001b[0m         \u001b[0mend\u001b[0m \u001b[0;34m=\u001b[0m \u001b[0mloc\u001b[0m\u001b[0;34m\u001b[0m\u001b[0;34m\u001b[0m\u001b[0m\n\u001b[1;32m    183\u001b[0m \u001b[0;34m\u001b[0m\u001b[0m\n\u001b[0;32m--> 184\u001b[0;31m     \u001b[0;32mreturn\u001b[0m \u001b[0mloc\u001b[0m\u001b[0;34m,\u001b[0m \u001b[0mindex\u001b[0m\u001b[0;34m[\u001b[0m\u001b[0;34m:\u001b[0m\u001b[0mend\u001b[0m \u001b[0;34m+\u001b[0m \u001b[0;36m1\u001b[0m\u001b[0;34m]\u001b[0m\u001b[0;34m,\u001b[0m \u001b[0mindex_was_expanded\u001b[0m\u001b[0;34m\u001b[0m\u001b[0;34m\u001b[0m\u001b[0m\n\u001b[0m\u001b[1;32m    185\u001b[0m \u001b[0;34m\u001b[0m\u001b[0m\n\u001b[1;32m    186\u001b[0m \u001b[0;34m\u001b[0m\u001b[0m\n",
            "\u001b[0;31mTypeError\u001b[0m: can only concatenate list (not \"int\") to list"
          ]
        }
      ]
    },
    {
      "cell_type": "code",
      "source": [
        "mod.cov_params_approx"
      ],
      "metadata": {
        "id": "h_vpxePaevYc",
        "colab": {
          "base_uri": "https://localhost:8080/",
          "height": 331
        },
        "outputId": "ba714b6a-c06d-406b-d50d-5a0af7c9a7d9"
      },
      "execution_count": null,
      "outputs": [
        {
          "output_type": "error",
          "ename": "KeyboardInterrupt",
          "evalue": "ignored",
          "traceback": [
            "\u001b[0;31m---------------------------------------------------------------------------\u001b[0m",
            "\u001b[0;31mKeyboardInterrupt\u001b[0m                         Traceback (most recent call last)",
            "\u001b[0;32m<ipython-input-8-be0e28d96b41>\u001b[0m in \u001b[0;36m<module>\u001b[0;34m\u001b[0m\n\u001b[0;32m----> 1\u001b[0;31m \u001b[0mmod\u001b[0m\u001b[0;34m.\u001b[0m\u001b[0mcov_params_approx\u001b[0m\u001b[0;34m\u001b[0m\u001b[0;34m\u001b[0m\u001b[0m\n\u001b[0m",
            "\u001b[0;32m/usr/local/lib/python3.8/dist-packages/statsmodels/base/wrapper.py\u001b[0m in \u001b[0;36m__getattribute__\u001b[0;34m(self, attr)\u001b[0m\n\u001b[1;32m     32\u001b[0m             \u001b[0;32mpass\u001b[0m\u001b[0;34m\u001b[0m\u001b[0;34m\u001b[0m\u001b[0m\n\u001b[1;32m     33\u001b[0m \u001b[0;34m\u001b[0m\u001b[0m\n\u001b[0;32m---> 34\u001b[0;31m         \u001b[0mobj\u001b[0m \u001b[0;34m=\u001b[0m \u001b[0mgetattr\u001b[0m\u001b[0;34m(\u001b[0m\u001b[0mresults\u001b[0m\u001b[0;34m,\u001b[0m \u001b[0mattr\u001b[0m\u001b[0;34m)\u001b[0m\u001b[0;34m\u001b[0m\u001b[0;34m\u001b[0m\u001b[0m\n\u001b[0m\u001b[1;32m     35\u001b[0m         \u001b[0mdata\u001b[0m \u001b[0;34m=\u001b[0m \u001b[0mresults\u001b[0m\u001b[0;34m.\u001b[0m\u001b[0mmodel\u001b[0m\u001b[0;34m.\u001b[0m\u001b[0mdata\u001b[0m\u001b[0;34m\u001b[0m\u001b[0;34m\u001b[0m\u001b[0m\n\u001b[1;32m     36\u001b[0m         \u001b[0mhow\u001b[0m \u001b[0;34m=\u001b[0m \u001b[0mself\u001b[0m\u001b[0;34m.\u001b[0m\u001b[0m_wrap_attrs\u001b[0m\u001b[0;34m.\u001b[0m\u001b[0mget\u001b[0m\u001b[0;34m(\u001b[0m\u001b[0mattr\u001b[0m\u001b[0;34m)\u001b[0m\u001b[0;34m\u001b[0m\u001b[0;34m\u001b[0m\u001b[0m\n",
            "\u001b[0;32m/usr/local/lib/python3.8/dist-packages/pandas/_libs/properties.pyx\u001b[0m in \u001b[0;36mpandas._libs.properties.CachedProperty.__get__\u001b[0;34m()\u001b[0m\n",
            "\u001b[0;32m/usr/local/lib/python3.8/dist-packages/statsmodels/tsa/statespace/mlemodel.py\u001b[0m in \u001b[0;36mcov_params_approx\u001b[0;34m(self)\u001b[0m\n\u001b[1;32m   2588\u001b[0m         \u001b[0mHessian\u001b[0m \u001b[0mapproximated\u001b[0m \u001b[0mby\u001b[0m \u001b[0mcomplex\u001b[0m \u001b[0mstep\u001b[0m \u001b[0;32mor\u001b[0m \u001b[0mfinite\u001b[0m \u001b[0mdifferences\u001b[0m \u001b[0mmethods\u001b[0m\u001b[0;34m.\u001b[0m\u001b[0;34m\u001b[0m\u001b[0;34m\u001b[0m\u001b[0m\n\u001b[1;32m   2589\u001b[0m         \"\"\"\n\u001b[0;32m-> 2590\u001b[0;31m         return self._cov_params_approx(self._cov_approx_complex_step,\n\u001b[0m\u001b[1;32m   2591\u001b[0m                                        self._cov_approx_centered)\n\u001b[1;32m   2592\u001b[0m \u001b[0;34m\u001b[0m\u001b[0m\n",
            "\u001b[0;32m/usr/local/lib/python3.8/dist-packages/statsmodels/tsa/statespace/mlemodel.py\u001b[0m in \u001b[0;36m_cov_params_approx\u001b[0;34m(self, approx_complex_step, approx_centered)\u001b[0m\n\u001b[1;32m   2562\u001b[0m     def _cov_params_approx(self, approx_complex_step=True,\n\u001b[1;32m   2563\u001b[0m                            approx_centered=False):\n\u001b[0;32m-> 2564\u001b[0;31m         evaluated_hessian = self.nobs_effective * self.model.hessian(\n\u001b[0m\u001b[1;32m   2565\u001b[0m             \u001b[0mparams\u001b[0m\u001b[0;34m=\u001b[0m\u001b[0mself\u001b[0m\u001b[0;34m.\u001b[0m\u001b[0mparams\u001b[0m\u001b[0;34m,\u001b[0m \u001b[0mtransformed\u001b[0m\u001b[0;34m=\u001b[0m\u001b[0;32mTrue\u001b[0m\u001b[0;34m,\u001b[0m \u001b[0mincludes_fixed\u001b[0m\u001b[0;34m=\u001b[0m\u001b[0;32mTrue\u001b[0m\u001b[0;34m,\u001b[0m\u001b[0;34m\u001b[0m\u001b[0;34m\u001b[0m\u001b[0m\n\u001b[1;32m   2566\u001b[0m             \u001b[0mmethod\u001b[0m\u001b[0;34m=\u001b[0m\u001b[0;34m'approx'\u001b[0m\u001b[0;34m,\u001b[0m \u001b[0mapprox_complex_step\u001b[0m\u001b[0;34m=\u001b[0m\u001b[0mapprox_complex_step\u001b[0m\u001b[0;34m,\u001b[0m\u001b[0;34m\u001b[0m\u001b[0;34m\u001b[0m\u001b[0m\n",
            "\u001b[0;32m/usr/local/lib/python3.8/dist-packages/statsmodels/tsa/statespace/mlemodel.py\u001b[0m in \u001b[0;36mhessian\u001b[0;34m(self, params, *args, **kwargs)\u001b[0m\n\u001b[1;32m   1505\u001b[0m                 approx_centered=approx_centered, **kwargs)\n\u001b[1;32m   1506\u001b[0m         \u001b[0;32melif\u001b[0m \u001b[0mmethod\u001b[0m \u001b[0;34m==\u001b[0m \u001b[0;34m'approx'\u001b[0m \u001b[0;32mand\u001b[0m \u001b[0mapprox_complex_step\u001b[0m\u001b[0;34m:\u001b[0m\u001b[0;34m\u001b[0m\u001b[0;34m\u001b[0m\u001b[0m\n\u001b[0;32m-> 1507\u001b[0;31m             hessian = self._hessian_complex_step(\n\u001b[0m\u001b[1;32m   1508\u001b[0m                 params, transformed=transformed, **kwargs)\n\u001b[1;32m   1509\u001b[0m         \u001b[0;32melif\u001b[0m \u001b[0mmethod\u001b[0m \u001b[0;34m==\u001b[0m \u001b[0;34m'approx'\u001b[0m\u001b[0;34m:\u001b[0m\u001b[0;34m\u001b[0m\u001b[0;34m\u001b[0m\u001b[0m\n",
            "\u001b[0;32m/usr/local/lib/python3.8/dist-packages/statsmodels/tsa/statespace/mlemodel.py\u001b[0m in \u001b[0;36m_hessian_complex_step\u001b[0;34m(self, params, **kwargs)\u001b[0m\n\u001b[1;32m   1555\u001b[0m         \u001b[0mkwargs\u001b[0m\u001b[0;34m[\u001b[0m\u001b[0;34m'transformed'\u001b[0m\u001b[0;34m]\u001b[0m \u001b[0;34m=\u001b[0m \u001b[0;32mTrue\u001b[0m\u001b[0;34m\u001b[0m\u001b[0;34m\u001b[0m\u001b[0m\n\u001b[1;32m   1556\u001b[0m         \u001b[0mkwargs\u001b[0m\u001b[0;34m[\u001b[0m\u001b[0;34m'complex_step'\u001b[0m\u001b[0;34m]\u001b[0m \u001b[0;34m=\u001b[0m \u001b[0;32mTrue\u001b[0m\u001b[0;34m\u001b[0m\u001b[0;34m\u001b[0m\u001b[0m\n\u001b[0;32m-> 1557\u001b[0;31m         hessian = approx_hess_cs(\n\u001b[0m\u001b[1;32m   1558\u001b[0m             params, self.loglike, epsilon=epsilon, kwargs=kwargs)\n\u001b[1;32m   1559\u001b[0m \u001b[0;34m\u001b[0m\u001b[0m\n",
            "\u001b[0;32m/usr/local/lib/python3.8/dist-packages/statsmodels/tools/numdiff.py\u001b[0m in \u001b[0;36mapprox_hess_cs\u001b[0;34m(x, f, epsilon, args, kwargs)\u001b[0m\n\u001b[1;32m    239\u001b[0m     \u001b[0;32mfor\u001b[0m \u001b[0mi\u001b[0m \u001b[0;32min\u001b[0m \u001b[0mrange\u001b[0m\u001b[0;34m(\u001b[0m\u001b[0mn\u001b[0m\u001b[0;34m)\u001b[0m\u001b[0;34m:\u001b[0m\u001b[0;34m\u001b[0m\u001b[0;34m\u001b[0m\u001b[0m\n\u001b[1;32m    240\u001b[0m         \u001b[0;32mfor\u001b[0m \u001b[0mj\u001b[0m \u001b[0;32min\u001b[0m \u001b[0mrange\u001b[0m\u001b[0;34m(\u001b[0m\u001b[0mi\u001b[0m\u001b[0;34m,\u001b[0m \u001b[0mn\u001b[0m\u001b[0;34m)\u001b[0m\u001b[0;34m:\u001b[0m\u001b[0;34m\u001b[0m\u001b[0;34m\u001b[0m\u001b[0m\n\u001b[0;32m--> 241\u001b[0;31m             hess[i, j] = (f(*((x + 1j*ee[i, :] + ee[j, :],) + args), **kwargs)\n\u001b[0m\u001b[1;32m    242\u001b[0m                           - f(*((x + 1j*ee[i, :] - ee[j, :],)+args),\n\u001b[1;32m    243\u001b[0m                               **kwargs)).imag/2./hess[i, j]\n",
            "\u001b[0;32m/usr/local/lib/python3.8/dist-packages/statsmodels/tsa/statespace/mlemodel.py\u001b[0m in \u001b[0;36mloglike\u001b[0;34m(self, params, *args, **kwargs)\u001b[0m\n\u001b[1;32m    923\u001b[0m             \u001b[0mkwargs\u001b[0m\u001b[0;34m[\u001b[0m\u001b[0;34m'inversion_method'\u001b[0m\u001b[0;34m]\u001b[0m \u001b[0;34m=\u001b[0m \u001b[0mINVERT_UNIVARIATE\u001b[0m \u001b[0;34m|\u001b[0m \u001b[0mSOLVE_LU\u001b[0m\u001b[0;34m\u001b[0m\u001b[0;34m\u001b[0m\u001b[0m\n\u001b[1;32m    924\u001b[0m \u001b[0;34m\u001b[0m\u001b[0m\n\u001b[0;32m--> 925\u001b[0;31m         \u001b[0mloglike\u001b[0m \u001b[0;34m=\u001b[0m \u001b[0mself\u001b[0m\u001b[0;34m.\u001b[0m\u001b[0mssm\u001b[0m\u001b[0;34m.\u001b[0m\u001b[0mloglike\u001b[0m\u001b[0;34m(\u001b[0m\u001b[0mcomplex_step\u001b[0m\u001b[0;34m=\u001b[0m\u001b[0mcomplex_step\u001b[0m\u001b[0;34m,\u001b[0m \u001b[0;34m**\u001b[0m\u001b[0mkwargs\u001b[0m\u001b[0;34m)\u001b[0m\u001b[0;34m\u001b[0m\u001b[0;34m\u001b[0m\u001b[0m\n\u001b[0m\u001b[1;32m    926\u001b[0m \u001b[0;34m\u001b[0m\u001b[0m\n\u001b[1;32m    927\u001b[0m         \u001b[0;31m# Koopman, Shephard, and Doornik recommend maximizing the average\u001b[0m\u001b[0;34m\u001b[0m\u001b[0;34m\u001b[0m\u001b[0;34m\u001b[0m\u001b[0m\n",
            "\u001b[0;32m/usr/local/lib/python3.8/dist-packages/statsmodels/tsa/statespace/kalman_filter.py\u001b[0m in \u001b[0;36mloglike\u001b[0;34m(self, **kwargs)\u001b[0m\n\u001b[1;32m    981\u001b[0m         kwargs.setdefault('conserve_memory',\n\u001b[1;32m    982\u001b[0m                           MEMORY_CONSERVE ^ MEMORY_NO_LIKELIHOOD)\n\u001b[0;32m--> 983\u001b[0;31m         \u001b[0mkfilter\u001b[0m \u001b[0;34m=\u001b[0m \u001b[0mself\u001b[0m\u001b[0;34m.\u001b[0m\u001b[0m_filter\u001b[0m\u001b[0;34m(\u001b[0m\u001b[0;34m**\u001b[0m\u001b[0mkwargs\u001b[0m\u001b[0;34m)\u001b[0m\u001b[0;34m\u001b[0m\u001b[0;34m\u001b[0m\u001b[0m\n\u001b[0m\u001b[1;32m    984\u001b[0m         loglikelihood_burn = kwargs.get('loglikelihood_burn',\n\u001b[1;32m    985\u001b[0m                                         self.loglikelihood_burn)\n",
            "\u001b[0;32m/usr/local/lib/python3.8/dist-packages/statsmodels/tsa/statespace/kalman_filter.py\u001b[0m in \u001b[0;36m_filter\u001b[0;34m(self, filter_method, inversion_method, stability_method, conserve_memory, filter_timing, tolerance, loglikelihood_burn, complex_step)\u001b[0m\n\u001b[1;32m    904\u001b[0m \u001b[0;34m\u001b[0m\u001b[0m\n\u001b[1;32m    905\u001b[0m         \u001b[0;31m# Run the filter\u001b[0m\u001b[0;34m\u001b[0m\u001b[0;34m\u001b[0m\u001b[0;34m\u001b[0m\u001b[0m\n\u001b[0;32m--> 906\u001b[0;31m         \u001b[0mkfilter\u001b[0m\u001b[0;34m(\u001b[0m\u001b[0;34m)\u001b[0m\u001b[0;34m\u001b[0m\u001b[0;34m\u001b[0m\u001b[0m\n\u001b[0m\u001b[1;32m    907\u001b[0m \u001b[0;34m\u001b[0m\u001b[0m\n\u001b[1;32m    908\u001b[0m         \u001b[0;32mreturn\u001b[0m \u001b[0mkfilter\u001b[0m\u001b[0;34m\u001b[0m\u001b[0;34m\u001b[0m\u001b[0m\n",
            "\u001b[0;31mKeyboardInterrupt\u001b[0m: "
          ]
        }
      ]
    },
    {
      "cell_type": "markdown",
      "source": [
        "Nul car extrapole la prédiction actuelle en une liste de prédiction sur une période future (pas ce qu'on veut)"
      ],
      "metadata": {
        "id": "KQcCD-gN5G2H"
      }
    },
    {
      "cell_type": "markdown",
      "source": [
        "# Conso par type de maison\n"
      ],
      "metadata": {
        "id": "BoccfEvR6Yen"
      }
    },
    {
      "cell_type": "markdown",
      "source": [
        "## Training models"
      ],
      "metadata": {
        "id": "kwMdzoaYcrXf"
      }
    },
    {
      "cell_type": "code",
      "source": [
        "import datetime as dt"
      ],
      "metadata": {
        "id": "lR4p1heT6iwO"
      },
      "execution_count": null,
      "outputs": []
    },
    {
      "cell_type": "code",
      "source": [
        "listDataByHouse = []\n",
        "\n",
        "folder = 'data M250-6/'\n",
        "tmp = folder[5:].split('-')\n",
        "if tmp[0][0] == 'A':\n",
        "  appart = 1\n",
        "else:\n",
        "  appart = 0\n",
        "\n",
        "surface = int(tmp[0][1:])\n",
        "nbHab = int(tmp[1][-2])\n",
        "\n",
        "i = 0\n",
        "for f in os.listdir(DATA + '/' + folder):  \n",
        "  #Dossier avec des noms de fichiers différents\n",
        "  if appart == 1 and surface == 120 and nbHab == 4:\n",
        "    id = f[20:-5]\n",
        "  else:\n",
        "    id = f.split('-')[2][:-4]\n",
        "\n",
        "  df = pd.read_csv(f'{DATA}/{folder}/{f}')\n",
        "  for index, rows in df.iterrows():\n",
        "    if(index == 0):\n",
        "      continue\n",
        "    \n",
        "    tmp = rows[0].split('/')\n",
        "    # Use 2020 so same date with different year got the same info (pas forcément obligatoire)\n",
        "    date = dt.date(int(tmp[2]), int(tmp[0]), int(tmp[1])).toordinal()\n",
        "\n",
        "    #Parse by column (for each hour)\n",
        "    for j in range(0, len(rows)-2):\n",
        "      listDataByHouse.append([date, j, float(rows[j+2])])\n",
        "  \n",
        "  #get first 5 files\n",
        "  i += 1\n",
        "  if i >= 30:\n",
        "    break\n",
        "\n",
        "dataByHouse = pd.DataFrame(listDataByHouse, columns=['date', 'heure', 'conso'])\n"
      ],
      "metadata": {
        "id": "TaepyLKt6m2P"
      },
      "execution_count": null,
      "outputs": []
    },
    {
      "cell_type": "code",
      "source": [
        "import tensorflow as tf\n",
        "from tensorflow.keras.models import Sequential\n",
        "from tensorflow.keras.layers import Dense, LSTM, Input"
      ],
      "metadata": {
        "id": "CEI85P5K6es-"
      },
      "execution_count": null,
      "outputs": []
    },
    {
      "cell_type": "code",
      "source": [
        "dataByHouse.set_index('date')\n",
        "trainX = dataByHouse.drop('conso', axis = 1)\n",
        "trainY = dataByHouse['conso']"
      ],
      "metadata": {
        "id": "G4S4yVy48tf4"
      },
      "execution_count": null,
      "outputs": []
    },
    {
      "cell_type": "code",
      "source": [
        "model = Sequential()\n",
        "model.add(\n",
        "    Input(shape=(1, 2), name=\"Input\")\n",
        ")\n",
        "model.add(\n",
        "    LSTM(8, name=\"LSTM\", dropout=0.15)\n",
        ")\n",
        "model.add(\n",
        "    Dense(1, name=\"Output\")\n",
        ")\n",
        "model.compile(loss='mean_squared_error', optimizer='adam')\n",
        "model.summary()"
      ],
      "metadata": {
        "colab": {
          "base_uri": "https://localhost:8080/"
        },
        "id": "QA2sjY4I80DH",
        "outputId": "bedcb44c-a4f7-4a65-b4d2-c487c2e7dab3"
      },
      "execution_count": null,
      "outputs": [
        {
          "output_type": "stream",
          "name": "stdout",
          "text": [
            "Model: \"sequential_77\"\n",
            "_________________________________________________________________\n",
            " Layer (type)                Output Shape              Param #   \n",
            "=================================================================\n",
            " LSTM (LSTM)                 (None, 8)                 352       \n",
            "                                                                 \n",
            " Output (Dense)              (None, 1)                 9         \n",
            "                                                                 \n",
            "=================================================================\n",
            "Total params: 361\n",
            "Trainable params: 361\n",
            "Non-trainable params: 0\n",
            "_________________________________________________________________\n"
          ]
        }
      ]
    },
    {
      "cell_type": "code",
      "source": [
        "history = model.fit(tf.expand_dims(trainX, axis=1), trainY, epochs=5, batch_size=2000, verbose=1)"
      ],
      "metadata": {
        "colab": {
          "base_uri": "https://localhost:8080/"
        },
        "id": "6Z8vZO6_86qC",
        "outputId": "e036b0b5-b5b6-4d89-f496-56903f61a570"
      },
      "execution_count": null,
      "outputs": [
        {
          "output_type": "stream",
          "name": "stdout",
          "text": [
            "Epoch 1/5\n",
            "777/777 [==============================] - 8s 8ms/step - loss: 1.9079\n",
            "Epoch 2/5\n",
            "777/777 [==============================] - 5s 6ms/step - loss: 1.2382\n",
            "Epoch 3/5\n",
            "777/777 [==============================] - 6s 7ms/step - loss: 1.0832\n",
            "Epoch 4/5\n",
            "777/777 [==============================] - 6s 8ms/step - loss: 1.0654\n",
            "Epoch 5/5\n",
            "777/777 [==============================] - 4s 6ms/step - loss: 1.0642\n"
          ]
        }
      ]
    },
    {
      "cell_type": "code",
      "source": [
        "import matplotlib.pyplot as plt"
      ],
      "metadata": {
        "id": "VqsP5TVA9BPv"
      },
      "execution_count": null,
      "outputs": []
    },
    {
      "cell_type": "code",
      "source": [
        "def plot_learning_curves(history):\n",
        "    plt.figure(figsize=(10,5))\n",
        "    plt.plot(history.history['loss'])\n",
        "    plt.title('Model loss')\n",
        "    plt.ylabel('loss')\n",
        "    plt.xlabel('#epoch')\n",
        "    plt.legend(['train', 'test'], loc='upper left')\n",
        "    plt.show()"
      ],
      "metadata": {
        "id": "4QWDGPP39EW6"
      },
      "execution_count": null,
      "outputs": []
    },
    {
      "cell_type": "code",
      "source": [
        "plot_learning_curves(history)"
      ],
      "metadata": {
        "colab": {
          "base_uri": "https://localhost:8080/",
          "height": 350
        },
        "id": "lvd7bB3E9HVX",
        "outputId": "93c0a16a-0c10-42dc-ec66-26f3b41d80bd"
      },
      "execution_count": null,
      "outputs": [
        {
          "output_type": "display_data",
          "data": {
            "text/plain": [
              "<Figure size 720x360 with 1 Axes>"
            ],
            "image/png": "[encoded data removed]"
          },
          "metadata": {
            "needs_background": "light"
          }
        }
      ]
    },
    {
      "cell_type": "code",
      "source": [
        "model.save(f'/content/drive/Shareddrives/Etude de cas PSIE/Modèles/{folder[:-1]}.h5')"
      ],
      "metadata": {
        "id": "Fa7wXG5B9Q0B"
      },
      "execution_count": null,
      "outputs": []
    },
    {
      "cell_type": "markdown",
      "source": [
        "à chier pour la prédiction malgré une faible loss\n",
        "\n",
        "Chaque modèle fait ~34Ko"
      ],
      "metadata": {
        "id": "GodSgrHPSTaq"
      }
    },
    {
      "cell_type": "markdown",
      "source": [
        "## Visualisation prediction"
      ],
      "metadata": {
        "id": "rXY5rftFctLe"
      }
    },
    {
      "cell_type": "code",
      "source": [
        "import datetime as dt\n",
        "\n",
        "listDataByHouse = []\n",
        "\n",
        "folder = 'data A50-3/'\n",
        "tmp = folder[5:].split('-')\n",
        "if tmp[0][0] == 'A':\n",
        "  appart = 1\n",
        "else:\n",
        "  appart = 0\n",
        "\n",
        "surface = int(tmp[0][1:])\n",
        "nbHab = int(tmp[1][-2])\n",
        "\n",
        "i = 0\n",
        "for f in os.listdir(DATA + '/' + folder):  \n",
        "  #Dossier avec des noms de fichiers différents\n",
        "  if appart == 1 and surface == 120 and nbHab == 4:\n",
        "    id = f[20:-5]\n",
        "  else:\n",
        "    id = f.split('-')[2][:-4]\n",
        "\n",
        "  df = pd.read_csv(f'{DATA}/{folder}/{f}')\n",
        "  for index, rows in df.iterrows():\n",
        "    if(index == 0):\n",
        "      continue\n",
        "    \n",
        "    tmp = rows[0].split('/')\n",
        "    # Use 2020 so same date with different year got the same info (pas forcément obligatoire)\n",
        "    #date = dt.date(int(tmp[2]), int(tmp[0]), int(tmp[1])).toordinal()\n",
        "    date = int(tmp[1])*100+int(tmp[0])\n",
        "\n",
        "    #Parse by column (for each hour)\n",
        "    for j in range(0, len(rows)-2):\n",
        "      listDataByHouse.append([date, j, float(rows[j+2])])\n",
        "  \n",
        "  #get first 5 files\n",
        "  i += 1\n",
        "  if i >= 30:\n",
        "    break\n",
        "\n",
        "dataByHouse = pd.DataFrame(listDataByHouse, columns=['date', 'heure', 'conso'])"
      ],
      "metadata": {
        "id": "eE2u5hscczm4"
      },
      "execution_count": null,
      "outputs": []
    },
    {
      "cell_type": "code",
      "source": [
        "dataByHouse"
      ],
      "metadata": {
        "colab": {
          "base_uri": "https://localhost:8080/",
          "height": 424
        },
        "id": "fcOFT_9xex0j",
        "outputId": "f42b2c49-cd9b-4d2c-82df-8703e917c53c"
      },
      "execution_count": null,
      "outputs": [
        {
          "output_type": "execute_result",
          "data": {
            "text/plain": [
              "         date  heure   conso\n",
              "0        1412      0  0.2686\n",
              "1        1412      1  0.3237\n",
              "2        1412      2  0.3010\n",
              "3        1412      3  0.4036\n",
              "4        1412      4  0.3561\n",
              "...       ...    ...     ...\n",
              "1553755   101     43  0.4790\n",
              "1553756   101     44  0.3993\n",
              "1553757   101     45  0.4448\n",
              "1553758   101     46  0.4058\n",
              "1553759   101     47  0.4448\n",
              "\n",
              "[1553760 rows x 3 columns]"
            ],
            "text/html": [
              "\n",
              "  <div id=\"df-4b75e709-b1ce-42c6-be06-e96ae2cf399d\">\n",
              "    <div class=\"colab-df-container\">\n",
              "      <div>\n",
              "<style scoped>\n",
              "    .dataframe tbody tr th:only-of-type {\n",
              "        vertical-align: middle;\n",
              "    }\n",
              "\n",
              "    .dataframe tbody tr th {\n",
              "        vertical-align: top;\n",
              "    }\n",
              "\n",
              "    .dataframe thead th {\n",
              "        text-align: right;\n",
              "    }\n",
              "</style>\n",
              "<table border=\"1\" class=\"dataframe\">\n",
              "  <thead>\n",
              "    <tr style=\"text-align: right;\">\n",
              "      <th></th>\n",
              "      <th>date</th>\n",
              "      <th>heure</th>\n",
              "      <th>conso</th>\n",
              "    </tr>\n",
              "  </thead>\n",
              "  <tbody>\n",
              "    <tr>\n",
              "      <th>0</th>\n",
              "      <td>1412</td>\n",
              "      <td>0</td>\n",
              "      <td>0.2686</td>\n",
              "    </tr>\n",
              "    <tr>\n",
              "      <th>1</th>\n",
              "      <td>1412</td>\n",
              "      <td>1</td>\n",
              "      <td>0.3237</td>\n",
              "    </tr>\n",
              "    <tr>\n",
              "      <th>2</th>\n",
              "      <td>1412</td>\n",
              "      <td>2</td>\n",
              "      <td>0.3010</td>\n",
              "    </tr>\n",
              "    <tr>\n",
              "      <th>3</th>\n",
              "      <td>1412</td>\n",
              "      <td>3</td>\n",
              "      <td>0.4036</td>\n",
              "    </tr>\n",
              "    <tr>\n",
              "      <th>4</th>\n",
              "      <td>1412</td>\n",
              "      <td>4</td>\n",
              "      <td>0.3561</td>\n",
              "    </tr>\n",
              "    <tr>\n",
              "      <th>...</th>\n",
              "      <td>...</td>\n",
              "      <td>...</td>\n",
              "      <td>...</td>\n",
              "    </tr>\n",
              "    <tr>\n",
              "      <th>1553755</th>\n",
              "      <td>101</td>\n",
              "      <td>43</td>\n",
              "      <td>0.4790</td>\n",
              "    </tr>\n",
              "    <tr>\n",
              "      <th>1553756</th>\n",
              "      <td>101</td>\n",
              "      <td>44</td>\n",
              "      <td>0.3993</td>\n",
              "    </tr>\n",
              "    <tr>\n",
              "      <th>1553757</th>\n",
              "      <td>101</td>\n",
              "      <td>45</td>\n",
              "      <td>0.4448</td>\n",
              "    </tr>\n",
              "    <tr>\n",
              "      <th>1553758</th>\n",
              "      <td>101</td>\n",
              "      <td>46</td>\n",
              "      <td>0.4058</td>\n",
              "    </tr>\n",
              "    <tr>\n",
              "      <th>1553759</th>\n",
              "      <td>101</td>\n",
              "      <td>47</td>\n",
              "      <td>0.4448</td>\n",
              "    </tr>\n",
              "  </tbody>\n",
              "</table>\n",
              "<p>1553760 rows × 3 columns</p>\n",
              "</div>\n",
              "      <button class=\"colab-df-convert\" onclick=\"convertToInteractive('df-4b75e709-b1ce-42c6-be06-e96ae2cf399d')\"\n",
              "              title=\"Convert this dataframe to an interactive table.\"\n",
              "              style=\"display:none;\">\n",
              "        \n",
              "  <svg xmlns=\"http://www.w3.org/2000/svg\" height=\"24px\"viewBox=\"0 0 24 24\"\n",
              "       width=\"24px\">\n",
              "    <path d=\"M0 0h24v24H0V0z\" fill=\"none\"/>\n",
              "    <path d=\"M18.56 5.44l.94 2.06.94-2.06 2.06-.94-2.06-.94-.94-2.06-.94 2.06-2.06.94zm-11 1L8.5 8.5l.94-2.06 2.06-.94-2.06-.94L8.5 2.5l-.94 2.06-2.06.94zm10 10l.94 2.06.94-2.06 2.06-.94-2.06-.94-.94-2.06-.94 2.06-2.06.94z\"/><path d=\"M17.41 7.96l-1.37-1.37c-.4-.4-.92-.59-1.43-.59-.52 0-1.04.2-1.43.59L10.3 9.45l-7.72 7.72c-.78.78-.78 2.05 0 2.83L4 21.41c.39.39.9.59 1.41.59.51 0 1.02-.2 1.41-.59l7.78-7.78 2.81-2.81c.8-.78.8-2.07 0-2.86zM5.41 20L4 18.59l7.72-7.72 1.47 1.35L5.41 20z\"/>\n",
              "  </svg>\n",
              "      </button>\n",
              "      \n",
              "  <style>\n",
              "    .colab-df-container {\n",
              "      display:flex;\n",
              "      flex-wrap:wrap;\n",
              "      gap: 12px;\n",
              "    }\n",
              "\n",
              "    .colab-df-convert {\n",
              "      background-color: #E8F0FE;\n",
              "      border: none;\n",
              "      border-radius: 50%;\n",
              "      cursor: pointer;\n",
              "      display: none;\n",
              "      fill: #1967D2;\n",
              "      height: 32px;\n",
              "      padding: 0 0 0 0;\n",
              "      width: 32px;\n",
              "    }\n",
              "\n",
              "    .colab-df-convert:hover {\n",
              "      background-color: #E2EBFA;\n",
              "      box-shadow: 0px 1px 2px rgba(60, 64, 67, 0.3), 0px 1px 3px 1px rgba(60, 64, 67, 0.15);\n",
              "      fill: #174EA6;\n",
              "    }\n",
              "\n",
              "    [theme=dark] .colab-df-convert {\n",
              "      background-color: #3B4455;\n",
              "      fill: #D2E3FC;\n",
              "    }\n",
              "\n",
              "    [theme=dark] .colab-df-convert:hover {\n",
              "      background-color: #434B5C;\n",
              "      box-shadow: 0px 1px 3px 1px rgba(0, 0, 0, 0.15);\n",
              "      filter: drop-shadow(0px 1px 2px rgba(0, 0, 0, 0.3));\n",
              "      fill: #FFFFFF;\n",
              "    }\n",
              "  </style>\n",
              "\n",
              "      <script>\n",
              "        const buttonEl =\n",
              "          document.querySelector('#df-4b75e709-b1ce-42c6-be06-e96ae2cf399d button.colab-df-convert');\n",
              "        buttonEl.style.display =\n",
              "          google.colab.kernel.accessAllowed ? 'block' : 'none';\n",
              "\n",
              "        async function convertToInteractive(key) {\n",
              "          const element = document.querySelector('#df-4b75e709-b1ce-42c6-be06-e96ae2cf399d');\n",
              "          const dataTable =\n",
              "            await google.colab.kernel.invokeFunction('convertToInteractive',\n",
              "                                                     [key], {});\n",
              "          if (!dataTable) return;\n",
              "\n",
              "          const docLinkHtml = 'Like what you see? Visit the ' +\n",
              "            '<a target=\"_blank\" href=https://colab.research.google.com/notebooks/data_table.ipynb>data table notebook</a>'\n",
              "            + ' to learn more about interactive tables.';\n",
              "          element.innerHTML = '';\n",
              "          dataTable['output_type'] = 'display_data';\n",
              "          await google.colab.output.renderOutput(dataTable, element);\n",
              "          const docLink = document.createElement('div');\n",
              "          docLink.innerHTML = docLinkHtml;\n",
              "          element.appendChild(docLink);\n",
              "        }\n",
              "      </script>\n",
              "    </div>\n",
              "  </div>\n",
              "  "
            ]
          },
          "metadata": {},
          "execution_count": 634
        }
      ]
    },
    {
      "cell_type": "code",
      "source": [
        "import tensorflow as tf\n",
        "from tensorflow.keras.models import load_model"
      ],
      "metadata": {
        "id": "B5ebToJ0c7r0"
      },
      "execution_count": null,
      "outputs": []
    },
    {
      "cell_type": "code",
      "source": [
        "name = 'data A50-3'\n",
        "model = load_model(f'/content/drive/Shareddrives/Etude de cas PSIE/Modèles/{name}.h5')"
      ],
      "metadata": {
        "id": "JZfWeMfrdDC2"
      },
      "execution_count": null,
      "outputs": []
    },
    {
      "cell_type": "code",
      "source": [
        "datas = [[i, 20000] for i in range(48)]\n",
        "print(datas)\n",
        "model.predict(tf.expand_dims(dataByHouse.drop('conso', axis=1).to_numpy().tolist(), axis=1))"
      ],
      "metadata": {
        "colab": {
          "base_uri": "https://localhost:8080/"
        },
        "id": "fZPuaNz6evF7",
        "outputId": "dca18a97-f92e-4862-f899-07884e0b698c"
      },
      "execution_count": null,
      "outputs": [
        {
          "output_type": "stream",
          "name": "stdout",
          "text": [
            "[[0, 20000], [1, 20000], [2, 20000], [3, 20000], [4, 20000], [5, 20000], [6, 20000], [7, 20000], [8, 20000], [9, 20000], [10, 20000], [11, 20000], [12, 20000], [13, 20000], [14, 20000], [15, 20000], [16, 20000], [17, 20000], [18, 20000], [19, 20000], [20, 20000], [21, 20000], [22, 20000], [23, 20000], [24, 20000], [25, 20000], [26, 20000], [27, 20000], [28, 20000], [29, 20000], [30, 20000], [31, 20000], [32, 20000], [33, 20000], [34, 20000], [35, 20000], [36, 20000], [37, 20000], [38, 20000], [39, 20000], [40, 20000], [41, 20000], [42, 20000], [43, 20000], [44, 20000], [45, 20000], [46, 20000], [47, 20000]]\n",
            "48555/48555 [==============================] - 77s 2ms/step\n"
          ]
        },
        {
          "output_type": "execute_result",
          "data": {
            "text/plain": [
              "array([[0.3315752 ],\n",
              "       [0.3315752 ],\n",
              "       [0.3315752 ],\n",
              "       ...,\n",
              "       [0.33154774],\n",
              "       [0.33153945],\n",
              "       [0.3315286 ]], dtype=float32)"
            ]
          },
          "metadata": {},
          "execution_count": 635
        }
      ]
    },
    {
      "cell_type": "code",
      "source": [
        "print(dataByHouse.loc[(dataByHouse['date'] == 737800) & (dataByHouse['heure'] == 10)])"
      ],
      "metadata": {
        "colab": {
          "base_uri": "https://localhost:8080/"
        },
        "id": "gjiFA5Cwf9Dh",
        "outputId": "f89898bd-c287-46d4-a766-ad0ad5b9ecce"
      },
      "execution_count": null,
      "outputs": [
        {
          "output_type": "stream",
          "name": "stdout",
          "text": [
            "           date  heure   conso\n",
            "33754    737800     10  0.6776\n",
            "85546    737800     10  1.2566\n",
            "137338   737800     10  1.1401\n",
            "189130   737800     10  0.6946\n",
            "240922   737800     10  0.5949\n",
            "292714   737800     10  0.9265\n",
            "344506   737800     10  0.7243\n",
            "396298   737800     10  1.3133\n",
            "448090   737800     10  0.6322\n",
            "499882   737800     10  0.4934\n",
            "551674   737800     10  0.4696\n",
            "603466   737800     10  0.7207\n",
            "655258   737800     10  0.4722\n",
            "707050   737800     10  1.2314\n",
            "758842   737800     10  0.4691\n",
            "810634   737800     10  0.7104\n",
            "862426   737800     10  0.8090\n",
            "914218   737800     10  1.6037\n",
            "966010   737800     10  0.8417\n",
            "1017802  737800     10  1.0525\n",
            "1069594  737800     10  0.9213\n",
            "1121386  737800     10  1.1691\n",
            "1173178  737800     10  0.6239\n",
            "1224970  737800     10  0.6644\n",
            "1276762  737800     10  0.8503\n",
            "1328554  737800     10  0.6584\n",
            "1380346  737800     10  0.8412\n",
            "1432138  737800     10  0.5280\n",
            "1483930  737800     10  0.5877\n",
            "1535722  737800     10  0.6230\n"
          ]
        }
      ]
    },
    {
      "cell_type": "markdown",
      "source": [
        "## Modèle bitcoiner fou"
      ],
      "metadata": {
        "id": "QC-i5hgCcJRx"
      }
    },
    {
      "cell_type": "code",
      "source": [
        "dataByHouse = pd.read_csv('/content/drive/Shareddrives/Etude de cas PSIE/DataByType/M110-4.csv')\n",
        "dataByHouse = dataByHouse.set_index(\"datetime\")\n",
        "dataByHouse=dataByHouse.drop(columns=[\"typeLogement\", 'surface',\"nbHabs\"])"
      ],
      "metadata": {
        "id": "tmkF9WbucWph"
      },
      "execution_count": null,
      "outputs": []
    },
    {
      "cell_type": "code",
      "source": [
        "import tensorflow as tf\n",
        "from tensorflow.keras.models import Sequential\n",
        "from tensorflow.keras.layers import Dense, LSTM, Input"
      ],
      "metadata": {
        "id": "mGlLS5EicMXL"
      },
      "execution_count": null,
      "outputs": []
    },
    {
      "cell_type": "markdown",
      "source": [
        "Créer une fenêtre de valeurs en entrer pour prédire la suivante"
      ],
      "metadata": {
        "id": "uAsGHsemcsb4"
      }
    },
    {
      "cell_type": "code",
      "source": [
        "def df_to_X_y(df, window_size=5):\n",
        "  df_as_np = df.to_numpy()\n",
        "  X = []\n",
        "  y = []\n",
        "  for i in range(len(df_as_np)-window_size):\n",
        "    row = [[a] for a in df_as_np[i:i+window_size]]\n",
        "    X.append(row)\n",
        "    label = df_as_np[i+window_size]\n",
        "    y.append(label)\n",
        "  return np.array(X), np.array(y)"
      ],
      "metadata": {
        "id": "NDRFt0MPcV6n"
      },
      "execution_count": null,
      "outputs": []
    },
    {
      "cell_type": "code",
      "source": [
        "WINDOW_SIZE = 48\n",
        "x1, y1 = df_to_X_y(dataByHouse, WINDOW_SIZE)\n",
        "x1.shape, y1.shape"
      ],
      "metadata": {
        "colab": {
          "base_uri": "https://localhost:8080/"
        },
        "id": "xUKoF7WBcrkF",
        "outputId": "2ff32bcd-2e1a-4f34-dfeb-587f8a951347"
      },
      "execution_count": null,
      "outputs": [
        {
          "output_type": "execute_result",
          "data": {
            "text/plain": [
              "((51744, 48, 1, 1), (51744, 1))"
            ]
          },
          "metadata": {},
          "execution_count": 78
        }
      ]
    },
    {
      "cell_type": "code",
      "source": [
        "X_train1, y_train1 = x1[:40000], y1[:40000]\n",
        "X_val1, y_val1 = x1[40000:45000], y1[40000:45000]\n",
        "X_test1, y_test1 = x1[45000:], y1[45000:]\n",
        "X_train1.shape, y_train1.shape, X_val1.shape, y_val1.shape, X_test1.shape, y_test1.shape"
      ],
      "metadata": {
        "colab": {
          "base_uri": "https://localhost:8080/"
        },
        "id": "6GbZRS5qc0Qk",
        "outputId": "ca2fa213-06cc-4ba5-8068-c92eddc8f195"
      },
      "execution_count": null,
      "outputs": [
        {
          "output_type": "execute_result",
          "data": {
            "text/plain": [
              "((40000, 48, 1, 1),\n",
              " (40000, 1),\n",
              " (5000, 48, 1, 1),\n",
              " (5000, 1),\n",
              " (6744, 48, 1, 1),\n",
              " (6744, 1))"
            ]
          },
          "metadata": {},
          "execution_count": 79
        }
      ]
    },
    {
      "cell_type": "code",
      "source": [
        "from tensorflow.keras.models import Sequential\n",
        "from tensorflow.keras.layers import *\n",
        "from tensorflow.keras.callbacks import ModelCheckpoint\n",
        "from tensorflow.keras.losses import MeanSquaredError\n",
        "from tensorflow.keras.metrics import RootMeanSquaredError\n",
        "from tensorflow.keras.optimizers import Adam\n",
        "\n",
        "model1 = Sequential()\n",
        "model1.add(InputLayer((WINDOW_SIZE, 1)))\n",
        "model1.add(LSTM(64))\n",
        "model1.add(Dense(8, 'relu'))\n",
        "model1.add(Dense(1, 'linear'))\n",
        "\n",
        "model1.summary()"
      ],
      "metadata": {
        "colab": {
          "base_uri": "https://localhost:8080/"
        },
        "id": "or-qBFKZc5g6",
        "outputId": "7c3b769c-1cb3-4ead-ed24-687fd5cbc68b"
      },
      "execution_count": null,
      "outputs": [
        {
          "output_type": "stream",
          "name": "stdout",
          "text": [
            "Model: \"sequential\"\n",
            "_________________________________________________________________\n",
            " Layer (type)                Output Shape              Param #   \n",
            "=================================================================\n",
            " lstm (LSTM)                 (None, 64)                16896     \n",
            "                                                                 \n",
            " dense (Dense)               (None, 8)                 520       \n",
            "                                                                 \n",
            " dense_1 (Dense)             (None, 1)                 9         \n",
            "                                                                 \n",
            "=================================================================\n",
            "Total params: 17,425\n",
            "Trainable params: 17,425\n",
            "Non-trainable params: 0\n",
            "_________________________________________________________________\n"
          ]
        }
      ]
    },
    {
      "cell_type": "code",
      "source": [
        "model1.compile(loss=MeanSquaredError(), optimizer=Adam(learning_rate=0.0001), metrics=[RootMeanSquaredError()])"
      ],
      "metadata": {
        "id": "o2CXEBUec8pq"
      },
      "execution_count": null,
      "outputs": []
    },
    {
      "cell_type": "code",
      "source": [
        "model1.fit(X_train1, y_train1, validation_data=(X_val1, y_val1), epochs=10)"
      ],
      "metadata": {
        "colab": {
          "base_uri": "https://localhost:8080/"
        },
        "id": "V-TqA_pZc-dm",
        "outputId": "8d777d7c-cfc3-423d-9f76-52cf1f872c1c"
      },
      "execution_count": null,
      "outputs": [
        {
          "output_type": "stream",
          "name": "stdout",
          "text": [
            "Epoch 1/10\n",
            "1250/1250 [==============================] - 30s 21ms/step - loss: 0.1090 - root_mean_squared_error: 0.3301 - val_loss: 0.0439 - val_root_mean_squared_error: 0.2096\n",
            "Epoch 2/10\n",
            "1250/1250 [==============================] - 25s 20ms/step - loss: 0.0695 - root_mean_squared_error: 0.2636 - val_loss: 0.0380 - val_root_mean_squared_error: 0.1948\n",
            "Epoch 3/10\n",
            "1250/1250 [==============================] - 25s 20ms/step - loss: 0.0588 - root_mean_squared_error: 0.2424 - val_loss: 0.0302 - val_root_mean_squared_error: 0.1739\n",
            "Epoch 4/10\n",
            "1250/1250 [==============================] - 25s 20ms/step - loss: 0.0519 - root_mean_squared_error: 0.2278 - val_loss: 0.0282 - val_root_mean_squared_error: 0.1680\n",
            "Epoch 5/10\n",
            "1250/1250 [==============================] - 25s 20ms/step - loss: 0.0479 - root_mean_squared_error: 0.2189 - val_loss: 0.0274 - val_root_mean_squared_error: 0.1655\n",
            "Epoch 6/10\n",
            "1250/1250 [==============================] - 25s 20ms/step - loss: 0.0435 - root_mean_squared_error: 0.2086 - val_loss: 0.0261 - val_root_mean_squared_error: 0.1617\n",
            "Epoch 7/10\n",
            "1250/1250 [==============================] - 25s 20ms/step - loss: 0.0381 - root_mean_squared_error: 0.1953 - val_loss: 0.0249 - val_root_mean_squared_error: 0.1577\n",
            "Epoch 8/10\n",
            "1250/1250 [==============================] - 26s 21ms/step - loss: 0.0308 - root_mean_squared_error: 0.1754 - val_loss: 0.0266 - val_root_mean_squared_error: 0.1631\n",
            "Epoch 9/10\n",
            "1250/1250 [==============================] - 27s 21ms/step - loss: 0.0232 - root_mean_squared_error: 0.1524 - val_loss: 0.0250 - val_root_mean_squared_error: 0.1582\n",
            "Epoch 10/10\n",
            "1250/1250 [==============================] - 25s 20ms/step - loss: 0.0180 - root_mean_squared_error: 0.1340 - val_loss: 0.0198 - val_root_mean_squared_error: 0.1409\n"
          ]
        },
        {
          "output_type": "execute_result",
          "data": {
            "text/plain": [
              "<keras.callbacks.History at 0x7f3b24cb1a90>"
            ]
          },
          "metadata": {},
          "execution_count": 82
        }
      ]
    },
    {
      "cell_type": "markdown",
      "source": [
        "Afficher la différence entre prédiction et réalité sur le jeu d'apprentissage"
      ],
      "metadata": {
        "id": "K4NuvTkxeB3G"
      }
    },
    {
      "cell_type": "code",
      "source": [
        "train_predictions = model1.predict(X_train1).flatten()"
      ],
      "metadata": {
        "colab": {
          "base_uri": "https://localhost:8080/"
        },
        "id": "pNYr3qYMeFaG",
        "outputId": "3c88d1ba-abf5-4365-e9ba-b14b98bcc015"
      },
      "execution_count": null,
      "outputs": [
        {
          "output_type": "stream",
          "name": "stdout",
          "text": [
            "1250/1250 [==============================] - 11s 8ms/step\n"
          ]
        }
      ]
    },
    {
      "cell_type": "code",
      "source": [
        "import matplotlib.pyplot as plt\n",
        "plt.figure(figsize=(12, 4))\n",
        "plt.plot(train_predictions[1680:1920], color='b')\n",
        "plt.plot(y_train1[1680:1920], color='r')\n",
        "plt.xlabel(\"Mesures\")\n",
        "plt.ylabel(\"Consommation\")\n",
        "plt.legend([\"Prediction\", \"Reality\"])\n",
        "plt.show()"
      ],
      "metadata": {
        "colab": {
          "base_uri": "https://localhost:8080/",
          "height": 279
        },
        "id": "vYp6C2Z4eJEO",
        "outputId": "8e1f0a36-9dcb-43a0-8635-2546c3ec40aa"
      },
      "execution_count": null,
      "outputs": [
        {
          "output_type": "display_data",
          "data": {
            "text/plain": [
              "<Figure size 864x288 with 1 Axes>"
            ],
            "image/png": "[encoded data removed]"
          },
          "metadata": {
            "needs_background": "light"
          }
        }
      ]
    },
    {
      "cell_type": "markdown",
      "source": [
        "Afficher la différence entre prédiction et réalité sur le jeu de test"
      ],
      "metadata": {
        "id": "L6D_hiWXfrxY"
      }
    },
    {
      "cell_type": "code",
      "source": [
        "train_predictions = model1.predict(X_val1).flatten()"
      ],
      "metadata": {
        "colab": {
          "base_uri": "https://localhost:8080/"
        },
        "id": "gf8C3wLSfwiS",
        "outputId": "6a3114b2-0507-4624-f3da-6c274a190210"
      },
      "execution_count": null,
      "outputs": [
        {
          "output_type": "stream",
          "name": "stdout",
          "text": [
            "157/157 [==============================] - 2s 7ms/step\n"
          ]
        }
      ]
    },
    {
      "cell_type": "code",
      "source": [
        "import matplotlib.pyplot as plt\n",
        "plt.figure(figsize=(12, 4))\n",
        "plt.plot(train_predictions[1680:1920], color='b')\n",
        "plt.plot(y_val1[1680:1920], color='r')\n",
        "plt.xlabel(\"Mesures\")\n",
        "plt.ylabel(\"Consommation\")\n",
        "plt.legend([\"Prediction\", \"Reality\"])\n",
        "plt.show()"
      ],
      "metadata": {
        "colab": {
          "base_uri": "https://localhost:8080/",
          "height": 279
        },
        "id": "9k635AkYf0wS",
        "outputId": "d29e86d6-652f-48b7-ace4-c00b3b9352ce"
      },
      "execution_count": null,
      "outputs": [
        {
          "output_type": "display_data",
          "data": {
            "text/plain": [
              "<Figure size 864x288 with 1 Axes>"
            ],
            "image/png": "[encoded data removed]"
          },
          "metadata": {
            "needs_background": "light"
          }
        }
      ]
    },
    {
      "cell_type": "markdown",
      "source": [
        "Afficher la différence entre prédiction et réalité sur test"
      ],
      "metadata": {
        "id": "HVTbbmnIf_JD"
      }
    },
    {
      "cell_type": "code",
      "source": [
        "train_predictions = model1.predict(X_test1).flatten()"
      ],
      "metadata": {
        "colab": {
          "base_uri": "https://localhost:8080/"
        },
        "id": "IdNN8Fn8gH0Q",
        "outputId": "e0b472e0-dfe3-421e-b138-cbda4ca25eb4"
      },
      "execution_count": null,
      "outputs": [
        {
          "output_type": "stream",
          "name": "stdout",
          "text": [
            "211/211 [==============================] - 1s 6ms/step\n"
          ]
        }
      ]
    },
    {
      "cell_type": "code",
      "source": [
        "y_test1[1]"
      ],
      "metadata": {
        "colab": {
          "base_uri": "https://localhost:8080/"
        },
        "id": "XE7RXuFShEZa",
        "outputId": "4fe80131-fe80-4ccc-84cc-643080008660"
      },
      "execution_count": null,
      "outputs": [
        {
          "output_type": "execute_result",
          "data": {
            "text/plain": [
              "array([0.25286657])"
            ]
          },
          "metadata": {},
          "execution_count": 82
        }
      ]
    },
    {
      "cell_type": "code",
      "source": [
        "import matplotlib.pyplot as plt\n",
        "plt.figure(figsize=(24, 4))\n",
        "\n",
        "d = y_test1[6000:6500]\n",
        "d += train_predictions[6500:6700]\n",
        "\n",
        "print(len(d))\n",
        "\n",
        "plt.plot(d[0:500], color='b')\n",
        "plt.plot(d[500:700], color='r')\n",
        "plt.show()"
      ],
      "metadata": {
        "colab": {
          "base_uri": "https://localhost:8080/",
          "height": 255
        },
        "id": "DjuybnY2gMJk",
        "outputId": "10f8fa7e-883c-4857-9d1c-7f569aa074ff"
      },
      "execution_count": null,
      "outputs": [
        {
          "output_type": "error",
          "ename": "ValueError",
          "evalue": "ignored",
          "traceback": [
            "\u001b[0;31m---------------------------------------------------------------------------\u001b[0m",
            "\u001b[0;31mValueError\u001b[0m                                Traceback (most recent call last)",
            "\u001b[0;32m<ipython-input-90-796891a68ee8>\u001b[0m in \u001b[0;36m<module>\u001b[0;34m\u001b[0m\n\u001b[1;32m      3\u001b[0m \u001b[0;34m\u001b[0m\u001b[0m\n\u001b[1;32m      4\u001b[0m \u001b[0md\u001b[0m \u001b[0;34m=\u001b[0m \u001b[0my_test1\u001b[0m\u001b[0;34m[\u001b[0m\u001b[0;36m6000\u001b[0m\u001b[0;34m:\u001b[0m\u001b[0;36m6500\u001b[0m\u001b[0;34m]\u001b[0m\u001b[0;34m\u001b[0m\u001b[0;34m\u001b[0m\u001b[0m\n\u001b[0;32m----> 5\u001b[0;31m \u001b[0md\u001b[0m \u001b[0;34m+=\u001b[0m \u001b[0mtrain_predictions\u001b[0m\u001b[0;34m[\u001b[0m\u001b[0;36m6500\u001b[0m\u001b[0;34m:\u001b[0m\u001b[0;36m6700\u001b[0m\u001b[0;34m]\u001b[0m\u001b[0;34m\u001b[0m\u001b[0;34m\u001b[0m\u001b[0m\n\u001b[0m\u001b[1;32m      6\u001b[0m \u001b[0;34m\u001b[0m\u001b[0m\n\u001b[1;32m      7\u001b[0m \u001b[0mprint\u001b[0m\u001b[0;34m(\u001b[0m\u001b[0mlen\u001b[0m\u001b[0;34m(\u001b[0m\u001b[0md\u001b[0m\u001b[0;34m)\u001b[0m\u001b[0;34m)\u001b[0m\u001b[0;34m\u001b[0m\u001b[0;34m\u001b[0m\u001b[0m\n",
            "\u001b[0;31mValueError\u001b[0m: non-broadcastable output operand with shape (500,1) doesn't match the broadcast shape (500,200)"
          ]
        },
        {
          "output_type": "display_data",
          "data": {
            "text/plain": [
              "<Figure size 1728x288 with 0 Axes>"
            ]
          },
          "metadata": {}
        }
      ]
    },
    {
      "cell_type": "markdown",
      "source": [
        "On donne date => récupérer l'historique des val précédentes => intégrer modèle => prédiction sur jour +1"
      ],
      "metadata": {
        "id": "E5LOTZqdgp2U"
      }
    },
    {
      "cell_type": "markdown",
      "source": [
        "## Prophet 🙏"
      ],
      "metadata": {
        "id": "4sQJ78rRDSrY"
      }
    },
    {
      "cell_type": "markdown",
      "source": [
        "https://facebook.github.io/prophet/docs/quick_start.html#python-api"
      ],
      "metadata": {
        "id": "mpaA_KyZES8J"
      }
    },
    {
      "cell_type": "markdown",
      "source": [
        "### Train model"
      ],
      "metadata": {
        "id": "fGbqPZKySjLp"
      }
    },
    {
      "cell_type": "code",
      "source": [
        "import os\n",
        "import pandas as pd\n",
        "import numpy as np\n",
        "import datetime as dt\n",
        "import matplotlib.pyplot as plt\n",
        "from prophet import Prophet\n",
        "from prophet.serialize import model_to_json, model_from_json"
      ],
      "metadata": {
        "id": "2OqH1IuEDbXN"
      },
      "execution_count": null,
      "outputs": []
    },
    {
      "cell_type": "code",
      "source": [
        "listDataByHouse = []\n",
        "\n",
        "folder = os.listdir(DATA)[12]\n",
        "print(folder)\n",
        "\n",
        "i = 0\n",
        "for f in os.listdir(DATA + '/' + folder):\n",
        "  df = pd.read_csv(f'{DATA}/{folder}/{f}')\n",
        "  for index, rows in df.iterrows():\n",
        "    if(index == 0):\n",
        "      continue\n",
        "    \n",
        "    tmp = rows[0].split('/')\n",
        "    # Use 2020 so same date with different year got the same info (pas forcément obligatoire)\n",
        "    date = dt.date(int(tmp[2]), int(tmp[0]), int(tmp[1]))\n",
        "\n",
        "    #Parse by column (for each hour)\n",
        "    for j in range(0, len(rows)-2):\n",
        "      dateWithHour = dt.datetime.combine(date, dt.time(int(j/2), 30*(j%2)))\n",
        "      listDataByHouse.append([dateWithHour, float(rows[j+2])])\n",
        "  \n",
        "  #get first 10 files\n",
        "  i += 1\n",
        "  if i > 10:\n",
        "    break\n",
        "\n",
        "dataByHouse = pd.DataFrame(listDataByHouse, columns=['ds', 'y'])\n",
        "dataByHouse=dataByHouse.sort_values(by=\"ds\")"
      ],
      "metadata": {
        "colab": {
          "base_uri": "https://localhost:8080/"
        },
        "id": "yvTjt8voDnOk",
        "outputId": "5eeee1fa-95d0-47fd-8b06-eb92ab8ccf97"
      },
      "execution_count": null,
      "outputs": [
        {
          "output_type": "stream",
          "name": "stdout",
          "text": [
            "data M120-5\n"
          ]
        }
      ]
    },
    {
      "cell_type": "code",
      "source": [
        "dataByHouse.shape"
      ],
      "metadata": {
        "colab": {
          "base_uri": "https://localhost:8080/"
        },
        "id": "W2dnhOhHMxQQ",
        "outputId": "b8eb477d-52da-457b-d003-64f662cd01ec"
      },
      "execution_count": null,
      "outputs": [
        {
          "output_type": "execute_result",
          "data": {
            "text/plain": [
              "(569712, 2)"
            ]
          },
          "metadata": {},
          "execution_count": 153
        }
      ]
    },
    {
      "cell_type": "code",
      "source": [
        "#train=dataByHouse.iloc[:300000]\n",
        "#train.shape"
      ],
      "metadata": {
        "id": "BIDffRsHEpem"
      },
      "execution_count": null,
      "outputs": []
    },
    {
      "cell_type": "code",
      "source": [
        "model = Prophet(changepoint_prior_scale=0.01, daily_seasonality=True)\n",
        "model.fit(dataByHouse)"
      ],
      "metadata": {
        "colab": {
          "base_uri": "https://localhost:8080/"
        },
        "id": "KeLy2UPCFDe4",
        "outputId": "d89c31a8-e7d3-4445-b17a-afffc46474c5"
      },
      "execution_count": null,
      "outputs": [
        {
          "output_type": "stream",
          "name": "stderr",
          "text": [
            "DEBUG:cmdstanpy:input tempfile: /tmp/tmplmrm9gei/5lsf5ysr.json\n",
            "DEBUG:cmdstanpy:input tempfile: /tmp/tmplmrm9gei/g_v2i5kb.json\n",
            "DEBUG:cmdstanpy:idx 0\n",
            "DEBUG:cmdstanpy:running CmdStan, num_threads: None\n",
            "DEBUG:cmdstanpy:CmdStan args: ['/usr/local/lib/python3.8/dist-packages/prophet/stan_model/prophet_model.bin', 'random', 'seed=66654', 'data', 'file=/tmp/tmplmrm9gei/5lsf5ysr.json', 'init=/tmp/tmplmrm9gei/g_v2i5kb.json', 'output', 'file=/tmp/tmplmrm9gei/prophet_model22b3hef4/prophet_model-20230119131903.csv', 'method=optimize', 'algorithm=lbfgs', 'iter=10000']\n",
            "13:19:03 - cmdstanpy - INFO - Chain [1] start processing\n",
            "INFO:cmdstanpy:Chain [1] start processing\n",
            "13:27:52 - cmdstanpy - INFO - Chain [1] done processing\n",
            "INFO:cmdstanpy:Chain [1] done processing\n"
          ]
        },
        {
          "output_type": "execute_result",
          "data": {
            "text/plain": [
              "<prophet.forecaster.Prophet at 0x7f3b6907cb80>"
            ]
          },
          "metadata": {},
          "execution_count": 73
        }
      ]
    },
    {
      "cell_type": "code",
      "source": [
        "with open(f'/content/drive/Shareddrives/Etude de cas PSIE/Modèles/{folder}.json', 'w') as f:\n",
        "    f.write(model_to_json(model))  # Save model"
      ],
      "metadata": {
        "id": "fCkt04KzRklH"
      },
      "execution_count": null,
      "outputs": []
    },
    {
      "cell_type": "markdown",
      "source": [
        "### Predict model"
      ],
      "metadata": {
        "id": "4-mn1OA-Smz9"
      }
    },
    {
      "cell_type": "code",
      "source": [
        "with open('/content/drive/Shareddrives/Etude de cas PSIE/Modèles/data A30-2.json', 'r') as f:\n",
        "    model = model_from_json(f.read())  # Load model"
      ],
      "metadata": {
        "id": "UJL5s3dWSwqV"
      },
      "execution_count": null,
      "outputs": []
    },
    {
      "cell_type": "code",
      "source": [
        "testDates = []\n",
        "for i in range(5):\n",
        "  date = dt.date(2023, 1, (1+i))\n",
        "\n",
        "  #Parse by column (for each hour)\n",
        "  for j in range(48):\n",
        "    dateWithHour = dt.datetime.combine(date, dt.time(int(j/2), 30*(j%2)))\n",
        "    testDates.append(dateWithHour)\n",
        "\n",
        "testDates = pd.DataFrame(testDates, columns=['ds'])"
      ],
      "metadata": {
        "id": "DWWR0d5oFvm4"
      },
      "execution_count": null,
      "outputs": []
    },
    {
      "cell_type": "code",
      "source": [
        "forecast = model.predict(testDates)\n",
        "forecast"
      ],
      "metadata": {
        "colab": {
          "base_uri": "https://localhost:8080/",
          "height": 661
        },
        "id": "bWU-hJdLTZ7E",
        "outputId": "05b43b9e-e9a6-4a5e-f75e-6d4377fbb127"
      },
      "execution_count": null,
      "outputs": [
        {
          "output_type": "execute_result",
          "data": {
            "text/plain": [
              "                     ds     trend  yhat_lower  yhat_upper  trend_lower  \\\n",
              "0   2023-01-01 00:00:00  0.180707    0.149503    0.384305     0.180707   \n",
              "1   2023-01-01 00:30:00  0.180706    0.148866    0.378364     0.180706   \n",
              "2   2023-01-01 01:00:00  0.180705    0.154283    0.385933     0.180705   \n",
              "3   2023-01-01 01:30:00  0.180704    0.161984    0.389940     0.180704   \n",
              "4   2023-01-01 02:00:00  0.180704    0.153254    0.386274     0.180704   \n",
              "..                  ...       ...         ...         ...          ...   \n",
              "235 2023-01-05 21:30:00  0.180530    0.140645    0.376359     0.180530   \n",
              "236 2023-01-05 22:00:00  0.180529    0.141822    0.370709     0.180529   \n",
              "237 2023-01-05 22:30:00  0.180528    0.144097    0.363502     0.180528   \n",
              "238 2023-01-05 23:00:00  0.180527    0.135627    0.371521     0.180527   \n",
              "239 2023-01-05 23:30:00  0.180527    0.137367    0.359315     0.180527   \n",
              "\n",
              "     trend_upper  additive_terms  additive_terms_lower  additive_terms_upper  \\\n",
              "0       0.180707        0.081262              0.081262              0.081262   \n",
              "1       0.180706        0.084672              0.084672              0.084672   \n",
              "2       0.180705        0.088138              0.088138              0.088138   \n",
              "3       0.180704        0.090978              0.090978              0.090978   \n",
              "4       0.180704        0.092683              0.092683              0.092683   \n",
              "..           ...             ...                   ...                   ...   \n",
              "235     0.180530        0.077982              0.077982              0.077982   \n",
              "236     0.180529        0.074813              0.074813              0.074813   \n",
              "237     0.180528        0.072835              0.072835              0.072835   \n",
              "238     0.180527        0.072459              0.072459              0.072459   \n",
              "239     0.180527        0.073743              0.073743              0.073743   \n",
              "\n",
              "        daily  ...    weekly  weekly_lower  weekly_upper    yearly  \\\n",
              "0   -0.002121  ...  0.008956      0.008956      0.008956  0.074427   \n",
              "1    0.001222  ...  0.008981      0.008981      0.008981  0.074469   \n",
              "2    0.004628  ...  0.009000      0.009000      0.009000  0.074510   \n",
              "3    0.007413  ...  0.009013      0.009013      0.009013  0.074552   \n",
              "4    0.009069  ...  0.009020      0.009020      0.009020  0.074594   \n",
              "..        ...  ...       ...           ...           ...       ...   \n",
              "235 -0.000212  ... -0.008795     -0.008795     -0.008795  0.086989   \n",
              "236 -0.003429  ... -0.008810     -0.008810     -0.008810  0.087052   \n",
              "237 -0.005462  ... -0.008818     -0.008818     -0.008818  0.087115   \n",
              "238 -0.005901  ... -0.008818     -0.008818     -0.008818  0.087177   \n",
              "239 -0.004688  ... -0.008810     -0.008810     -0.008810  0.087240   \n",
              "\n",
              "     yearly_lower  yearly_upper  multiplicative_terms  \\\n",
              "0        0.074427      0.074427                   0.0   \n",
              "1        0.074469      0.074469                   0.0   \n",
              "2        0.074510      0.074510                   0.0   \n",
              "3        0.074552      0.074552                   0.0   \n",
              "4        0.074594      0.074594                   0.0   \n",
              "..            ...           ...                   ...   \n",
              "235      0.086989      0.086989                   0.0   \n",
              "236      0.087052      0.087052                   0.0   \n",
              "237      0.087115      0.087115                   0.0   \n",
              "238      0.087177      0.087177                   0.0   \n",
              "239      0.087240      0.087240                   0.0   \n",
              "\n",
              "     multiplicative_terms_lower  multiplicative_terms_upper      yhat  \n",
              "0                           0.0                         0.0  0.261969  \n",
              "1                           0.0                         0.0  0.265377  \n",
              "2                           0.0                         0.0  0.268844  \n",
              "3                           0.0                         0.0  0.271682  \n",
              "4                           0.0                         0.0  0.273387  \n",
              "..                          ...                         ...       ...  \n",
              "235                         0.0                         0.0  0.258512  \n",
              "236                         0.0                         0.0  0.255342  \n",
              "237                         0.0                         0.0  0.253363  \n",
              "238                         0.0                         0.0  0.252986  \n",
              "239                         0.0                         0.0  0.254269  \n",
              "\n",
              "[240 rows x 22 columns]"
            ],
            "text/html": [
              "\n",
              "  <div id=\"df-b5a49952-8a20-458f-afc0-72a527d9ac79\">\n",
              "    <div class=\"colab-df-container\">\n",
              "      <div>\n",
              "<style scoped>\n",
              "    .dataframe tbody tr th:only-of-type {\n",
              "        vertical-align: middle;\n",
              "    }\n",
              "\n",
              "    .dataframe tbody tr th {\n",
              "        vertical-align: top;\n",
              "    }\n",
              "\n",
              "    .dataframe thead th {\n",
              "        text-align: right;\n",
              "    }\n",
              "</style>\n",
              "<table border=\"1\" class=\"dataframe\">\n",
              "  <thead>\n",
              "    <tr style=\"text-align: right;\">\n",
              "      <th></th>\n",
              "      <th>ds</th>\n",
              "      <th>trend</th>\n",
              "      <th>yhat_lower</th>\n",
              "      <th>yhat_upper</th>\n",
              "      <th>trend_lower</th>\n",
              "      <th>trend_upper</th>\n",
              "      <th>additive_terms</th>\n",
              "      <th>additive_terms_lower</th>\n",
              "      <th>additive_terms_upper</th>\n",
              "      <th>daily</th>\n",
              "      <th>...</th>\n",
              "      <th>weekly</th>\n",
              "      <th>weekly_lower</th>\n",
              "      <th>weekly_upper</th>\n",
              "      <th>yearly</th>\n",
              "      <th>yearly_lower</th>\n",
              "      <th>yearly_upper</th>\n",
              "      <th>multiplicative_terms</th>\n",
              "      <th>multiplicative_terms_lower</th>\n",
              "      <th>multiplicative_terms_upper</th>\n",
              "      <th>yhat</th>\n",
              "    </tr>\n",
              "  </thead>\n",
              "  <tbody>\n",
              "    <tr>\n",
              "      <th>0</th>\n",
              "      <td>2023-01-01 00:00:00</td>\n",
              "      <td>0.180707</td>\n",
              "      <td>0.149503</td>\n",
              "      <td>0.384305</td>\n",
              "      <td>0.180707</td>\n",
              "      <td>0.180707</td>\n",
              "      <td>0.081262</td>\n",
              "      <td>0.081262</td>\n",
              "      <td>0.081262</td>\n",
              "      <td>-0.002121</td>\n",
              "      <td>...</td>\n",
              "      <td>0.008956</td>\n",
              "      <td>0.008956</td>\n",
              "      <td>0.008956</td>\n",
              "      <td>0.074427</td>\n",
              "      <td>0.074427</td>\n",
              "      <td>0.074427</td>\n",
              "      <td>0.0</td>\n",
              "      <td>0.0</td>\n",
              "      <td>0.0</td>\n",
              "      <td>0.261969</td>\n",
              "    </tr>\n",
              "    <tr>\n",
              "      <th>1</th>\n",
              "      <td>2023-01-01 00:30:00</td>\n",
              "      <td>0.180706</td>\n",
              "      <td>0.148866</td>\n",
              "      <td>0.378364</td>\n",
              "      <td>0.180706</td>\n",
              "      <td>0.180706</td>\n",
              "      <td>0.084672</td>\n",
              "      <td>0.084672</td>\n",
              "      <td>0.084672</td>\n",
              "      <td>0.001222</td>\n",
              "      <td>...</td>\n",
              "      <td>0.008981</td>\n",
              "      <td>0.008981</td>\n",
              "      <td>0.008981</td>\n",
              "      <td>0.074469</td>\n",
              "      <td>0.074469</td>\n",
              "      <td>0.074469</td>\n",
              "      <td>0.0</td>\n",
              "      <td>0.0</td>\n",
              "      <td>0.0</td>\n",
              "      <td>0.265377</td>\n",
              "    </tr>\n",
              "    <tr>\n",
              "      <th>2</th>\n",
              "      <td>2023-01-01 01:00:00</td>\n",
              "      <td>0.180705</td>\n",
              "      <td>0.154283</td>\n",
              "      <td>0.385933</td>\n",
              "      <td>0.180705</td>\n",
              "      <td>0.180705</td>\n",
              "      <td>0.088138</td>\n",
              "      <td>0.088138</td>\n",
              "      <td>0.088138</td>\n",
              "      <td>0.004628</td>\n",
              "      <td>...</td>\n",
              "      <td>0.009000</td>\n",
              "      <td>0.009000</td>\n",
              "      <td>0.009000</td>\n",
              "      <td>0.074510</td>\n",
              "      <td>0.074510</td>\n",
              "      <td>0.074510</td>\n",
              "      <td>0.0</td>\n",
              "      <td>0.0</td>\n",
              "      <td>0.0</td>\n",
              "      <td>0.268844</td>\n",
              "    </tr>\n",
              "    <tr>\n",
              "      <th>3</th>\n",
              "      <td>2023-01-01 01:30:00</td>\n",
              "      <td>0.180704</td>\n",
              "      <td>0.161984</td>\n",
              "      <td>0.389940</td>\n",
              "      <td>0.180704</td>\n",
              "      <td>0.180704</td>\n",
              "      <td>0.090978</td>\n",
              "      <td>0.090978</td>\n",
              "      <td>0.090978</td>\n",
              "      <td>0.007413</td>\n",
              "      <td>...</td>\n",
              "      <td>0.009013</td>\n",
              "      <td>0.009013</td>\n",
              "      <td>0.009013</td>\n",
              "      <td>0.074552</td>\n",
              "      <td>0.074552</td>\n",
              "      <td>0.074552</td>\n",
              "      <td>0.0</td>\n",
              "      <td>0.0</td>\n",
              "      <td>0.0</td>\n",
              "      <td>0.271682</td>\n",
              "    </tr>\n",
              "    <tr>\n",
              "      <th>4</th>\n",
              "      <td>2023-01-01 02:00:00</td>\n",
              "      <td>0.180704</td>\n",
              "      <td>0.153254</td>\n",
              "      <td>0.386274</td>\n",
              "      <td>0.180704</td>\n",
              "      <td>0.180704</td>\n",
              "      <td>0.092683</td>\n",
              "      <td>0.092683</td>\n",
              "      <td>0.092683</td>\n",
              "      <td>0.009069</td>\n",
              "      <td>...</td>\n",
              "      <td>0.009020</td>\n",
              "      <td>0.009020</td>\n",
              "      <td>0.009020</td>\n",
              "      <td>0.074594</td>\n",
              "      <td>0.074594</td>\n",
              "      <td>0.074594</td>\n",
              "      <td>0.0</td>\n",
              "      <td>0.0</td>\n",
              "      <td>0.0</td>\n",
              "      <td>0.273387</td>\n",
              "    </tr>\n",
              "    <tr>\n",
              "      <th>...</th>\n",
              "      <td>...</td>\n",
              "      <td>...</td>\n",
              "      <td>...</td>\n",
              "      <td>...</td>\n",
              "      <td>...</td>\n",
              "      <td>...</td>\n",
              "      <td>...</td>\n",
              "      <td>...</td>\n",
              "      <td>...</td>\n",
              "      <td>...</td>\n",
              "      <td>...</td>\n",
              "      <td>...</td>\n",
              "      <td>...</td>\n",
              "      <td>...</td>\n",
              "      <td>...</td>\n",
              "      <td>...</td>\n",
              "      <td>...</td>\n",
              "      <td>...</td>\n",
              "      <td>...</td>\n",
              "      <td>...</td>\n",
              "      <td>...</td>\n",
              "    </tr>\n",
              "    <tr>\n",
              "      <th>235</th>\n",
              "      <td>2023-01-05 21:30:00</td>\n",
              "      <td>0.180530</td>\n",
              "      <td>0.140645</td>\n",
              "      <td>0.376359</td>\n",
              "      <td>0.180530</td>\n",
              "      <td>0.180530</td>\n",
              "      <td>0.077982</td>\n",
              "      <td>0.077982</td>\n",
              "      <td>0.077982</td>\n",
              "      <td>-0.000212</td>\n",
              "      <td>...</td>\n",
              "      <td>-0.008795</td>\n",
              "      <td>-0.008795</td>\n",
              "      <td>-0.008795</td>\n",
              "      <td>0.086989</td>\n",
              "      <td>0.086989</td>\n",
              "      <td>0.086989</td>\n",
              "      <td>0.0</td>\n",
              "      <td>0.0</td>\n",
              "      <td>0.0</td>\n",
              "      <td>0.258512</td>\n",
              "    </tr>\n",
              "    <tr>\n",
              "      <th>236</th>\n",
              "      <td>2023-01-05 22:00:00</td>\n",
              "      <td>0.180529</td>\n",
              "      <td>0.141822</td>\n",
              "      <td>0.370709</td>\n",
              "      <td>0.180529</td>\n",
              "      <td>0.180529</td>\n",
              "      <td>0.074813</td>\n",
              "      <td>0.074813</td>\n",
              "      <td>0.074813</td>\n",
              "      <td>-0.003429</td>\n",
              "      <td>...</td>\n",
              "      <td>-0.008810</td>\n",
              "      <td>-0.008810</td>\n",
              "      <td>-0.008810</td>\n",
              "      <td>0.087052</td>\n",
              "      <td>0.087052</td>\n",
              "      <td>0.087052</td>\n",
              "      <td>0.0</td>\n",
              "      <td>0.0</td>\n",
              "      <td>0.0</td>\n",
              "      <td>0.255342</td>\n",
              "    </tr>\n",
              "    <tr>\n",
              "      <th>237</th>\n",
              "      <td>2023-01-05 22:30:00</td>\n",
              "      <td>0.180528</td>\n",
              "      <td>0.144097</td>\n",
              "      <td>0.363502</td>\n",
              "      <td>0.180528</td>\n",
              "      <td>0.180528</td>\n",
              "      <td>0.072835</td>\n",
              "      <td>0.072835</td>\n",
              "      <td>0.072835</td>\n",
              "      <td>-0.005462</td>\n",
              "      <td>...</td>\n",
              "      <td>-0.008818</td>\n",
              "      <td>-0.008818</td>\n",
              "      <td>-0.008818</td>\n",
              "      <td>0.087115</td>\n",
              "      <td>0.087115</td>\n",
              "      <td>0.087115</td>\n",
              "      <td>0.0</td>\n",
              "      <td>0.0</td>\n",
              "      <td>0.0</td>\n",
              "      <td>0.253363</td>\n",
              "    </tr>\n",
              "    <tr>\n",
              "      <th>238</th>\n",
              "      <td>2023-01-05 23:00:00</td>\n",
              "      <td>0.180527</td>\n",
              "      <td>0.135627</td>\n",
              "      <td>0.371521</td>\n",
              "      <td>0.180527</td>\n",
              "      <td>0.180527</td>\n",
              "      <td>0.072459</td>\n",
              "      <td>0.072459</td>\n",
              "      <td>0.072459</td>\n",
              "      <td>-0.005901</td>\n",
              "      <td>...</td>\n",
              "      <td>-0.008818</td>\n",
              "      <td>-0.008818</td>\n",
              "      <td>-0.008818</td>\n",
              "      <td>0.087177</td>\n",
              "      <td>0.087177</td>\n",
              "      <td>0.087177</td>\n",
              "      <td>0.0</td>\n",
              "      <td>0.0</td>\n",
              "      <td>0.0</td>\n",
              "      <td>0.252986</td>\n",
              "    </tr>\n",
              "    <tr>\n",
              "      <th>239</th>\n",
              "      <td>2023-01-05 23:30:00</td>\n",
              "      <td>0.180527</td>\n",
              "      <td>0.137367</td>\n",
              "      <td>0.359315</td>\n",
              "      <td>0.180527</td>\n",
              "      <td>0.180527</td>\n",
              "      <td>0.073743</td>\n",
              "      <td>0.073743</td>\n",
              "      <td>0.073743</td>\n",
              "      <td>-0.004688</td>\n",
              "      <td>...</td>\n",
              "      <td>-0.008810</td>\n",
              "      <td>-0.008810</td>\n",
              "      <td>-0.008810</td>\n",
              "      <td>0.087240</td>\n",
              "      <td>0.087240</td>\n",
              "      <td>0.087240</td>\n",
              "      <td>0.0</td>\n",
              "      <td>0.0</td>\n",
              "      <td>0.0</td>\n",
              "      <td>0.254269</td>\n",
              "    </tr>\n",
              "  </tbody>\n",
              "</table>\n",
              "<p>240 rows × 22 columns</p>\n",
              "</div>\n",
              "      <button class=\"colab-df-convert\" onclick=\"convertToInteractive('df-b5a49952-8a20-458f-afc0-72a527d9ac79')\"\n",
              "              title=\"Convert this dataframe to an interactive table.\"\n",
              "              style=\"display:none;\">\n",
              "        \n",
              "  <svg xmlns=\"http://www.w3.org/2000/svg\" height=\"24px\"viewBox=\"0 0 24 24\"\n",
              "       width=\"24px\">\n",
              "    <path d=\"M0 0h24v24H0V0z\" fill=\"none\"/>\n",
              "    <path d=\"M18.56 5.44l.94 2.06.94-2.06 2.06-.94-2.06-.94-.94-2.06-.94 2.06-2.06.94zm-11 1L8.5 8.5l.94-2.06 2.06-.94-2.06-.94L8.5 2.5l-.94 2.06-2.06.94zm10 10l.94 2.06.94-2.06 2.06-.94-2.06-.94-.94-2.06-.94 2.06-2.06.94z\"/><path d=\"M17.41 7.96l-1.37-1.37c-.4-.4-.92-.59-1.43-.59-.52 0-1.04.2-1.43.59L10.3 9.45l-7.72 7.72c-.78.78-.78 2.05 0 2.83L4 21.41c.39.39.9.59 1.41.59.51 0 1.02-.2 1.41-.59l7.78-7.78 2.81-2.81c.8-.78.8-2.07 0-2.86zM5.41 20L4 18.59l7.72-7.72 1.47 1.35L5.41 20z\"/>\n",
              "  </svg>\n",
              "      </button>\n",
              "      \n",
              "  <style>\n",
              "    .colab-df-container {\n",
              "      display:flex;\n",
              "      flex-wrap:wrap;\n",
              "      gap: 12px;\n",
              "    }\n",
              "\n",
              "    .colab-df-convert {\n",
              "      background-color: #E8F0FE;\n",
              "      border: none;\n",
              "      border-radius: 50%;\n",
              "      cursor: pointer;\n",
              "      display: none;\n",
              "      fill: #1967D2;\n",
              "      height: 32px;\n",
              "      padding: 0 0 0 0;\n",
              "      width: 32px;\n",
              "    }\n",
              "\n",
              "    .colab-df-convert:hover {\n",
              "      background-color: #E2EBFA;\n",
              "      box-shadow: 0px 1px 2px rgba(60, 64, 67, 0.3), 0px 1px 3px 1px rgba(60, 64, 67, 0.15);\n",
              "      fill: #174EA6;\n",
              "    }\n",
              "\n",
              "    [theme=dark] .colab-df-convert {\n",
              "      background-color: #3B4455;\n",
              "      fill: #D2E3FC;\n",
              "    }\n",
              "\n",
              "    [theme=dark] .colab-df-convert:hover {\n",
              "      background-color: #434B5C;\n",
              "      box-shadow: 0px 1px 3px 1px rgba(0, 0, 0, 0.15);\n",
              "      filter: drop-shadow(0px 1px 2px rgba(0, 0, 0, 0.3));\n",
              "      fill: #FFFFFF;\n",
              "    }\n",
              "  </style>\n",
              "\n",
              "      <script>\n",
              "        const buttonEl =\n",
              "          document.querySelector('#df-b5a49952-8a20-458f-afc0-72a527d9ac79 button.colab-df-convert');\n",
              "        buttonEl.style.display =\n",
              "          google.colab.kernel.accessAllowed ? 'block' : 'none';\n",
              "\n",
              "        async function convertToInteractive(key) {\n",
              "          const element = document.querySelector('#df-b5a49952-8a20-458f-afc0-72a527d9ac79');\n",
              "          const dataTable =\n",
              "            await google.colab.kernel.invokeFunction('convertToInteractive',\n",
              "                                                     [key], {});\n",
              "          if (!dataTable) return;\n",
              "\n",
              "          const docLinkHtml = 'Like what you see? Visit the ' +\n",
              "            '<a target=\"_blank\" href=https://colab.research.google.com/notebooks/data_table.ipynb>data table notebook</a>'\n",
              "            + ' to learn more about interactive tables.';\n",
              "          element.innerHTML = '';\n",
              "          dataTable['output_type'] = 'display_data';\n",
              "          await google.colab.output.renderOutput(dataTable, element);\n",
              "          const docLink = document.createElement('div');\n",
              "          docLink.innerHTML = docLinkHtml;\n",
              "          element.appendChild(docLink);\n",
              "        }\n",
              "      </script>\n",
              "    </div>\n",
              "  </div>\n",
              "  "
            ]
          },
          "metadata": {},
          "execution_count": 30
        }
      ]
    },
    {
      "cell_type": "code",
      "source": [
        "import matplotlib.pyplot as plt\n",
        "\n",
        "#cleanDataByHouse = pd.DataFrame([dataByHouse.loc[i*10] for i in range(240)])\n",
        "\n",
        "plt.figure(figsize=(12, 4))\n",
        "plt.plot(forecast['ds'], forecast['yhat'], color='b')\n",
        "#plt.plot(cleanDataByHouse['ds'], cleanDataByHouse['y'], color='r')\n",
        "plt.xlabel(\"Mesures\")\n",
        "plt.ylabel(\"Consommation\")\n",
        "#plt.legend([\"Prediction\", \"Reality\"])\n",
        "plt.show()"
      ],
      "metadata": {
        "colab": {
          "base_uri": "https://localhost:8080/",
          "height": 279
        },
        "id": "C7TlJgTnRezX",
        "outputId": "134f0dd3-c9cb-4091-da68-089dd13d2004"
      },
      "execution_count": null,
      "outputs": [
        {
          "output_type": "display_data",
          "data": {
            "text/plain": [
              "<Figure size 864x288 with 1 Axes>"
            ],
            "image/png": "[encoded data removed]"
          },
          "metadata": {
            "needs_background": "light"
          }
        }
      ]
    },
    {
      "cell_type": "code",
      "source": [
        "model.plot_components(forecast, uncertainty=True)"
      ],
      "metadata": {
        "colab": {
          "base_uri": "https://localhost:8080/",
          "height": 1000
        },
        "id": "-jsUDYP1GLDh",
        "outputId": "bf255aea-31e3-4c9a-ab32-3bbb099d0f9d"
      },
      "execution_count": null,
      "outputs": [
        {
          "output_type": "execute_result",
          "data": {
            "text/plain": [
              "<Figure size 648x864 with 4 Axes>"
            ],
            "image/png": "[encoded data removed]"
          },
          "metadata": {},
          "execution_count": 105
        },
        {
          "output_type": "display_data",
          "data": {
            "text/plain": [
              "<Figure size 648x864 with 4 Axes>"
            ],
            "image/png": "[encoded data removed]"
          },
          "metadata": {}
        }
      ]
    }
  ]
}